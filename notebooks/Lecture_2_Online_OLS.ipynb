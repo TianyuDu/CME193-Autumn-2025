from sklearn.linear_model import LinearRegression

# Make a multivariate dataset
X = np.array([[1, 1], [1, 2], [2, 2], [2, 3]], dtype=float)
y = X @ np.array([1.0, 2.0]) + 3.0

# Fit with OnlineOLS (streaming)
ome = OnlineOLS(n_features=2)
ome += (X[:2], y[:2])  # batch add
for i in range(2, len(X)):
    ome += (X[i], y[i])

print("OnlineOLS coef_:", np.round(ome.coef_, 6))
print("OnlineOLS intercept_:", round(ome.intercept_, 6))
print("OnlineOLS R^2:", round(ome.score(X, y), 6))

# Fit with sklearn
reg = LinearRegression().fit(X, y)
print("sklearn coef_:", np.round(reg.coef_, 6))
print("sklearn intercept_:", round(reg.intercept_, 6))
print("sklearn R^2:", round(reg.score(X, y), 6))

# Predict a new point
print("OnlineOLS predict [[3,5]]:", ome.predict(np.array([[3.0, 5.0]])))
print("sklearn  predict [[3,5]]:", reg.predict(np.array([[3.0, 5.0]])))### Compare with scikit-learn

Fit the same small dataset with both `OnlineOLS` and `sklearn.linear_model.LinearRegression` to check parameters and R^2.# Demo: univariate OnlineOLSNaive
xs = np.array([1, 2, 3, 4, 5], dtype=float)
ys = 2 * xs + 1
m = OnlineOLSNaive()
for x, y in zip(xs, ys):
    m += (x, y)
print("slope:", round(m.slope, 6))
print("intercept:", round(m.intercept, 6))
print("score:", round(m.score(xs, ys), 6))class OnlineOLS:
    """Streaming multivariate OLS using running sufficient statistics.

    Maintains X'X and X'y via centered online updates (Welford). Exposes
    sklearn-like properties/methods: coef_, intercept_, predict, score.
    """
    def __init__(self, n_features: Optional[int] = None, ridge: float = 0.0):
        self.n_features = n_features
        self.ridge = float(ridge)
        self.n = 0
        self.mean_x = None
        self.mean_y = 0.0
        self.Sxx = None
        self.Sxy = None
        self._coef = None
        self._intercept = None

    def _ensure_dim(self, X: np.ndarray):
        d = X.shape[-1]
        if self.n_features is None:
            self.n_features = d
        elif d != self.n_features:
            raise ValueError(f"Expected n_features={self.n_features}, got {d}")

    def add(self, x: Union[np.ndarray, Iterable[float]], y: Union[float, np.ndarray]):
        X = np.atleast_2d(np.asarray(x, dtype=float))
        y = np.asarray(y, dtype=float).reshape(-1)
        if X.shape[0] != y.shape[0]:
            raise ValueError("X and y must have same number of samples")
        self._ensure_dim(X)

        d = self.n_features
        if self.mean_x is None:
            self.mean_x = np.zeros(d)
            self.Sxx = np.zeros((d, d))
            self.Sxy = np.zeros(d)
            self.mean_y = 0.0

        for i in range(X.shape[0]):
            xi = X[i]
            yi = float(y[i])
            self.n += 1
            dx = xi - self.mean_x
            dy = yi - self.mean_y
            self.mean_x += dx / self.n
            self.mean_y += dy / self.n
            self.Sxx += np.outer(xi - self.mean_x, dx)
            self.Sxy += (xi - self.mean_x) * dy

        self._coef = None
        self._intercept = None

    def __iadd__(self, obs):
        x, y = obs
        self.add(x, y)
        return self

    def __add__(self, obs):
        x, y = obs
        new = OnlineOLS(self.n_features, self.ridge)
        new.n = self.n
        new.mean_x = None if self.mean_x is None else self.mean_x.copy()
        new.mean_y = self.mean_y
        new.Sxx = None if self.Sxx is None else self.Sxx.copy()
        new.Sxy = None if self.Sxy is None else self.Sxy.copy()
        new.add(x, y)
        return new

    def _fit_if_needed(self):
        if self._coef is not None:
            return
        if self.n == 0 or self.Sxx is None:
            raise ValueError("No data.")
        A = self.Sxx.copy()
        if self.ridge > 0:
            A.flat[:: self.n_features + 1] += self.ridge
        try:
            b = np.linalg.solve(A, self.Sxy)
        except np.linalg.LinAlgError:
            b = np.linalg.lstsq(A, self.Sxy, rcond=None)[0]
        a = self.mean_y - float(np.dot(b, self.mean_x))
        self._coef = b
        self._intercept = a

    @property
    def coef_(self) -> np.ndarray:
        self._fit_if_needed()
        return self._coef

    @property
    def intercept_(self) -> float:
        self._fit_if_needed()
        return self._intercept

    def predict(self, X: np.ndarray) -> np.ndarray:
        self._fit_if_needed()
        X = np.asarray(X, dtype=float)
        return X @ self._coef + self._intercept

    def score(self, X: np.ndarray, y: np.ndarray) -> float:
        y = np.asarray(y, dtype=float)
        yhat = self.predict(X)
        u = y - yhat
        v = y - y.mean()
        den = float(np.dot(v, v))
        return 1.0 - float(np.dot(u, u)) / den if den != 0.0 else 0.0
class OnlineOLSNaive:
    """Streaming univariate OLS via simple running sums.

    __add__/__iadd__ treat (x, y) as an observation.
    """
    def __init__(self):
        self.n = 0
        self.Sx = 0.0
        self.Sy = 0.0
        self.Sxx = 0.0
        self.Sxy = 0.0

    def add(self, x: float, y: float) -> None:
        self.n += 1
        self.Sx += x
        self.Sy += y
        self.Sxx += x * x
        self.Sxy += x * y

    def __iadd__(self, obs: Tuple[float, float]):
        x, y = obs
        self.add(x, y)
        return self

    def __add__(self, obs: Tuple[float, float]):
        x, y = obs
        new = OnlineOLSNaive()
        new.n = self.n
        new.Sx = self.Sx
        new.Sy = self.Sy
        new.Sxx = self.Sxx
        new.Sxy = self.Sxy
        new.add(x, y)
        return new

    @property
    def slope(self) -> float:
        if self.n < 2:
            raise ValueError("Need at least two points for slope.")
        n, Sx, Sy, Sxx, Sxy = self.n, self.Sx, self.Sy, self.Sxx, self.Sxy
        den = n * Sxx - Sx * Sx
        if den == 0:
            raise ZeroDivisionError("Denominator is zero (all x identical?).")
        return (n * Sxy - Sx * Sy) / den

    @property
    def intercept(self) -> float:
        if self.n == 0:
            raise ValueError("No data.")
        return (self.Sy - self.slope * self.Sx) / self.n

    def predict(self, x: Union[float, np.ndarray]) -> Union[float, np.ndarray]:
        return self.intercept + self.slope * x

    def score(self, X: np.ndarray, y: np.ndarray) -> float:
        yhat = self.predict(X)
        u = y - yhat
        v = y - y.mean()
        den = float(np.dot(v, v))
        return 1.0 - float(np.dot(u, u)) / den if den != 0.0 else 0.0
import numpy as np
from typing import Optional, Tuple, Union, Iterable
## What does `__add__` mean here?

We define `model + (x, y)` to return a new model with that observation included, and `model += (x, y)` to update the model in-place. This is a natural, readable notation for streaming updates.# CME 193 - Lec 2: OOP via an Online OLS Example

We’ll motivate OOP with a scientific/ML-flavored example: a streaming (online) ordinary least squares estimator. We’ll build classes that ingest observations one-by-one, overload `__add__`/`__iadd__` to “add an observation”, and expose an API similar to scikit-learn (`coef_`, `intercept_`, `predict`, `score`).