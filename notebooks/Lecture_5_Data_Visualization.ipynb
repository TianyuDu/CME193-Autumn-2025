{
 "cells": [
  {
   "cell_type": "markdown",
   "id": "503b115c",
   "metadata": {},
   "source": [
    "# Lecture 5: Data Visualization in Python with Matplotlib and Seaborn\n",
    "\n",
    "# Announcements\n",
    "- The homework is due on Friday (Oct. 31, 2025), students with OAE letter are automatically granted a 7-day extension.\n",
    "- You also have 8 free late days that you can use for the homework.\n",
    "- Don't forget to take a picture of the attendance code.\n",
    "\n",
    "# Lecture Overview\n",
    "- We have covered basic **data management and manipulation** with Pandas in the previous lecture.\n",
    "- In a data science research pipeline, understanding your observations (e.g., by looking at them) in the dataset is a crucial step before building any models.\n",
    "- Visualizing the dataset helps you understand the data and make better choices for the features and models. In this lecture, we will cover the basics of data visualization with Matplotlib and Seaborn.\n",
    "- For example,\n",
    "  - a skewed distribution of a feature may suggest that you should take the logarithm of the feature.\n",
    "  - a complex relationship between features may suggest that you should use a machine learning model to capture the relationship.\n",
    "- In this lecture, we will cover the basics of data visualization with\n",
    "  - `Matplotlib`: the default basic library for data visualization in Python.\n",
    "  - and `Seaborn`: a library built on top of Matplotlib that provides a high-level interface for creating statistical graphics (ready for publication!)."
   ]
  },
  {
   "cell_type": "markdown",
   "id": "8c310c82",
   "metadata": {},
   "source": [
    "# Setup the Environment\n",
    "## Install Required Libraries"
   ]
  },
  {
   "cell_type": "code",
   "execution_count": null,
   "id": "37eaa3ec",
   "metadata": {},
   "outputs": [],
   "source": [
    "# install the seaborn library for advanced data visualization.\n",
    "# ! pip install seaborn\n",
    "# install the science-plot style package for publication-ready plot styles.\n",
    "# ! pip install SciencePlots"
   ]
  },
  {
   "cell_type": "markdown",
   "id": "e6b3e246",
   "metadata": {},
   "source": [
    "## Import the Libraries"
   ]
  },
  {
   "cell_type": "code",
   "execution_count": null,
   "id": "8d774adf",
   "metadata": {},
   "outputs": [],
   "source": [
    "import numpy as np\n",
    "import pandas as pd\n",
    "\n",
    "import matplotlib.pyplot as plt\n",
    "import seaborn as sns\n",
    "\n",
    "print(f\"Library versions -> pandas {pd.__version__}, seaborn {sns.__version__}\")"
   ]
  },
  {
   "cell_type": "markdown",
   "id": "f691a6d1",
   "metadata": {},
   "source": [
    "## Setup Plot Theme\n",
    "- There are a few default matplotlib themes (mainly controlling the color scheme); you can set them using `plt.style.use(\"THEME NAME\")`.\n",
    "- You can find the list of pre-installed themes using `plt.style.available`.\n",
    "- There are better third-party color schemes available out there, such as the `SciencePlots` library. Please see the GitHub page of the [SciencePlots](https://github.com/garrettj403/SciencePlots) package for more options on plot styles.\n",
    "- Here we use the `science` `no-latex` theme."
   ]
  },
  {
   "cell_type": "code",
   "execution_count": null,
   "id": "62f998a7",
   "metadata": {},
   "outputs": [],
   "source": [
    "# Set up the theme for the plots.\n",
    "\n",
    "import matplotlib.pyplot as plt\n",
    "import scienceplots\n",
    "\n",
    "plt.style.use(['nature', 'no-latex'])  # use the no-latex option if you don't have a local latex installation.\n",
    "# set default DPI to 150, I would recommend a DPI >= 300 for publication-quality images.\n",
    "plt.rcParams['figure.dpi'] = 150\n",
    "\n",
    "# for nicer display of the dataframe in Jupyter notebook\n",
    "pd.set_option(\"display.max_rows\", 8)\n",
    "pd.set_option(\"display.width\", 120)"
   ]
  },
  {
   "cell_type": "markdown",
   "id": "5356b835",
   "metadata": {},
   "source": [
    "# Quick Introduction to Matplotlib: Figure and Axes\n",
    "\n",
    "- Seaborn draws on Matplotlib, so let's get familiar with `matplotlib` terminologies.\n",
    "- The **Figure** is the overall canvas, which is the top-level container that owns the canvas (size, DPI, background), the overall coordinate system, all artists (including axes), and it orchestrates layout and rendering order. You can also save the entire figure.\n",
    "- The **Axes** is an individual plot on the canvas, it is a rectangular plotting region inside a figure that defines how data values are turned into on-screen positions via its scales and limits, provides spines/ticks/labels and grids, and holds the plot’s artists.\n",
    "\n",
    "- You'll mainly need:\n",
    "    - `fig, ax = plt.subplots()` to get an Axes to draw on (one axes on the canvas).\n",
    "    - Methods like `ax.plot`, `ax.set_title`, `ax.set_xlabel`, `ax.set_ylabel` for simple customization on ax level.\n",
    "    - Methods like `fig.suptitle()` and `fig.savefig` for figure level operations."
   ]
  },
  {
   "cell_type": "markdown",
   "id": "e0189d46",
   "metadata": {},
   "source": [
    "\n",
    "<img src=\"https://matplotlib.org/stable/_images/sphx_glr_anatomy_001_2_00x.png\" width=\"50%\">\n",
    "\n",
    "\n"
   ]
  },
  {
   "cell_type": "markdown",
   "id": "0e4cd0e5",
   "metadata": {},
   "source": [
    "## Example: Create a Figure with One Axes using `fig, ax = plt.subplots()`"
   ]
  },
  {
   "cell_type": "markdown",
   "id": "c466c574",
   "metadata": {},
   "source": [
    "### Quick API Reference\n",
    "\n",
    "- **plt.subplots(nrows=1, ncols=1, figsize=None, dpi=None, sharex=False, sharey=False, constrained_layout=False, layout=None)**\n",
    "  - **nrows/ncols**: grid shape; **figsize**: size in inches; **dpi**: resolution\n",
    "  - **sharex/sharey**: share axis limits; **constrained_layout/layout**: auto spacing\n",
    "- **Axes.plot(x, y, label=None, color=None, marker=None, ls='-', lw=None, alpha=None)**\n",
    "  - **marker**: point symbol; **color**: line/marker color; **alpha**: transparency; **label**: legend text\n",
    "- **Axes.set_title(label, fontsize=None, loc='center', pad=None)**\n",
    "  - **loc**: alignment; **pad**: spacing; **fontsize**: title size\n",
    "- **Axes.set_xlabel(xlabel, labelpad=None)** / **Axes.set_ylabel(ylabel, labelpad=None)**\n",
    "  - **labelpad**: label–axis spacing\n",
    "- **Axes.legend(loc='best', title=None, frameon=True, ncol=1)**\n",
    "  - **loc**: placement; **ncol**: column count; **frameon**: draw frame\n",
    "- **Axes.axhline(y=0, xmin=0, xmax=1, color=None, lw=None, ls=None)**\n",
    "  - Horizontal reference line; **xmin/xmax** in axes coords\n",
    "- **Axes.annotate(text, xy, xytext=None, textcoords='data', arrowprops=None, ha=None, va=None)**\n",
    "  - **xy**: data point; **xytext/textcoords**: label position; **arrowprops**: arrow style\n",
    "- **Figure.suptitle(t, y=0.98, fontsize=None)** / **Figure.tight_layout(...)**\n",
    "  - Super-title and automatic spacing\n",
    "- **Figure.savefig(fname, dpi=None, bbox_inches=None, transparent=False, format=None)**\n",
    "  - **dpi**: resolution; **bbox_inches='tight'** trims whitespace; **transparent**: no background\n"
   ]
  },
  {
   "cell_type": "code",
   "execution_count": null,
   "id": "0cba4f45",
   "metadata": {},
   "outputs": [],
   "source": [
    "# Minimal Matplotlib example\n",
    "x = [1, 2, 3, 4]\n",
    "y = [1, 4, 9, 16]\n",
    "\n",
    "fig, ax = plt.subplots(figsize=(5, 3))\n",
    "ax.plot(x, y, marker='o')\n",
    "ax.set_title(\"Matplotlib: Figure & Axes in action\")\n",
    "ax.set_xlabel(\"x\")\n",
    "ax.set_ylabel(\"y = x^2\")\n",
    "plt.show()\n"
   ]
  },
  {
   "cell_type": "markdown",
   "id": "f9aa3271",
   "metadata": {},
   "source": [
    "## Example: Create a Figure with (a Grid of) Multiple Axes using `fig, axes = plt.subplots(num_rows, num_cols)`\n",
    "\n",
    "<img src=\"https://matplotlib.org/stable/_images/users-explain-axes-index-1.2x.png\" width=\"50%\">"
   ]
  },
  {
   "cell_type": "code",
   "execution_count": null,
   "id": "4dc5a0b2",
   "metadata": {},
   "outputs": [],
   "source": [
    "# Advanced Matplotlib demo: subplots and annotations\n",
    "x = np.linspace(0, 2*np.pi, 200)\n",
    "y1 = np.sin(x)\n",
    "y2 = np.cos(x)\n",
    "\n",
    "fig, axes = plt.subplots(1, 2, figsize=(9, 3))\n",
    "axes[0].plot(x, y1, color=\"#1f77b4\", label=\"sin(x)\")\n",
    "axes[0].axhline(0, color=\"0.7\", lw=1)\n",
    "axes[0].set_title(\"Sine\")\n",
    "axes[0].legend()\n",
    "\n",
    "axes[1].plot(x, y2, color=\"#d62728\", label=\"cos(x)\")\n",
    "axes[1].set_title(\"Cosine\")\n",
    "axes[1].legend()\n",
    "\n",
    "# Annotate a notable point on the cosine curve\n",
    "max_x = 0\n",
    "max_y = np.cos(max_x)\n",
    "axes[1].scatter([max_x], [max_y], color=\"#d62728\")\n",
    "axes[1].annotate(\n",
    "    \"max at x=0\",\n",
    "    xy=(max_x, max_y), xytext=(0.8, 0.6), textcoords=\"axes fraction\",\n",
    "    arrowprops=dict(arrowstyle=\"->\", color=\"0.3\"), ha=\"left\"\n",
    ")\n",
    "\n",
    "fig.suptitle(\"Advanced Matplotlib: Subplots & Annotation\", y=1.05)\n",
    "fig.tight_layout()\n",
    "plt.show()\n"
   ]
  },
  {
   "cell_type": "markdown",
   "id": "2d157450",
   "metadata": {},
   "source": [
    "# Save the Figure\n",
    "- After plotting, you can save the **figure** (not individual axes!) to a file.\n",
    "- If you want to save an individual sub-plot (ax), just create a figure with `nrows=ncols=1` and save that figure.\n",
    "- Matplotlib supports various file formats, including PNG, PDF, SVG, etc.\n",
    "- You can choose a compressed format (e.g., JPG) for faster loading in web pages or sharing with others.\n",
    "- But do choose a high-resolution format (e.g., PDF, SVG) for publication-quality figures."
   ]
  },
  {
   "cell_type": "code",
   "execution_count": null,
   "id": "c612be66",
   "metadata": {},
   "outputs": [],
   "source": [
    "# Save as PNG (raster format)\n",
    "# fig.savefig(\"./my_plot.png\", dpi=300, bbox_inches=\"tight\")\n",
    "\n",
    "# Save as PDF (vector format, good for publications)\n",
    "# fig.savefig(\"./my_plot.pdf\", bbox_inches=\"tight\")\n",
    "\n",
    "# Save as SVG (vector format, good for web)\n",
    "# fig.savefig(\"./my_plot.svg\", bbox_inches=\"tight\")"
   ]
  },
  {
   "cell_type": "markdown",
   "id": "17cf4272",
   "metadata": {},
   "source": [
    "# Seaborn: Dataset-oriented Plotting\n",
    "\n",
    "- Seaborn lets you pass a **DataFrame** and refer to columns by name (e.g., `x=\"colname\"`).  \n",
    "- The plotting pipeline:\n",
    "    1. Use `fig, axes = plt.subplots()` to create a figure and a set of subplots.\n",
    "    2. Feed a `(dataset, ax)` pair to the Seaborn plotting function (e.g., `sns.histplot`, `sns.scatterplot`, etc.), it will plot the data on the `ax` object you provided.\n",
    "    3. Save the `fig` object to an image file (e.g., `fig.savefig(\"my_plot.png\")`) after finishing.\n",
    "\n",
    "## Relationship to `matplotlib` (from Seaborn's documentation)\n",
    "Seaborn’s integration with matplotlib allows you to use it across the many environments that matplotlib supports, including exploratory analysis in notebooks, real-time interaction in GUI applications, and archival output in a number of raster and vector formats.\n",
    "\n",
    "While you can be productive using only seaborn functions, full customization of your graphics will require some knowledge of matplotlib’s concepts and API. One aspect of the learning curve for new users of seaborn will be knowing when dropping down to the matplotlib layer is necessary to achieve a particular customization. On the other hand, users coming from matplotlib will find that much of their knowledge transfers.\n",
    "\n",
    "Matplotlib has a comprehensive and powerful API; just about any attribute of the figure can be changed to your liking. A combination of seaborn’s high-level interface and matplotlib’s deep customizability will allow you both to quickly explore your data and to create graphics that can be tailored into a publication quality final product."
   ]
  },
  {
   "cell_type": "markdown",
   "id": "745cd7c2",
   "metadata": {},
   "source": [
    "## Demo Dataset: `tips`: the Tipping data (https://rdrr.io/cran/reshape2/man/tips.html)\n",
    "\n",
    "One waiter recorded information about each tip he received over a period of a few months working in one restaurant. He collected several variables:\n",
    "\n",
    "- tip in dollars,\n",
    "- bill in dollars,\n",
    "- sex of the bill payer,\n",
    "- whether there were smokers in the party,\n",
    "- day of the week,\n",
    "- time of day,\n",
    "- size of the party."
   ]
  },
  {
   "cell_type": "code",
   "execution_count": null,
   "id": "c041ce23",
   "metadata": {},
   "outputs": [],
   "source": [
    "# we use the tips dataset from seaborn\n",
    "df_tips = sns.load_dataset(\"tips\")\n",
    "df_tips"
   ]
  },
  {
   "cell_type": "markdown",
   "id": "f6590b07",
   "metadata": {},
   "source": [
    "## Recall what we did in the previous lecture: create the \"tip percentage\" column"
   ]
  },
  {
   "cell_type": "code",
   "execution_count": null,
   "id": "612c403b",
   "metadata": {},
   "outputs": [],
   "source": [
    "df_tips[\"tip_percentage\"] = df_tips[\"tip\"] / df_tips[\"total_bill\"] * 100\n",
    "df_tips"
   ]
  },
  {
   "cell_type": "markdown",
   "id": "14dffe5a",
   "metadata": {},
   "source": [
    "# Part One: Single Variable Distributions\n",
    "\n",
    "We begin with the most basic visualization for a single discrete variable. For single discrete variables, we would choose the pie-chart, but it is not available through seaborn. We would need to use the native `matplotlib` functionality to achieve it."
   ]
  },
  {
   "cell_type": "code",
   "execution_count": null,
   "id": "095499a2",
   "metadata": {},
   "outputs": [],
   "source": [
    "# or even simpler, we can use the `value_counts` method to get the counts of each category.\n",
    "df_tips[\"day\"].value_counts()"
   ]
  },
  {
   "cell_type": "code",
   "execution_count": null,
   "id": "bece6c5c",
   "metadata": {},
   "outputs": [],
   "source": [
    "# Pie chart for the 'day' categorical variable\n",
    "day_counts = df_tips[\"day\"].value_counts()\n",
    "fig, ax = plt.subplots(figsize=(6, 4))\n",
    "ax.pie(day_counts, labels=day_counts.index, autopct='%1.1f%%', startangle=90)\n",
    "ax.set_title(\"Distribution of Tips by Day of Week\")\n",
    "plt.show()"
   ]
  },
  {
   "cell_type": "markdown",
   "id": "f23ddcb3",
   "metadata": {},
   "source": [
    "## Histogram for Single Continuous Variable with `sns.histplot(...)`\n",
    "\n",
    "Common kwargs (frequent):\n",
    "- **data**: DataFrame or array-like; **x**/**y**: column names or arrays\n",
    "- **bins**: int or sequence; or use **binwidth** and **binrange** for control\n",
    "- **stat**: \"count\" | \"proportion\" | \"percent\" | \"density\" (y-axis meaning)\n",
    "- **discrete**: True if values are discrete (e.g., integers)\n",
    "- **element**: \"bars\" | \"step\" | \"poly\" (hist visual style); **fill**: True/False\n",
    "- **hue**: column for grouping; with **palette**, **hue_order**, **hue_norm**\n",
    "- **multiple**: \"layer\" | \"stack\" | \"dodge\" | \"fill\" (how groups combine)\n",
    "- **common_bins**/**common_norm**: align bins and normalization across hue levels\n",
    "- **kde**: True to overlay KDE; pass **kde_kws** for KDE styling\n",
    "- **color** or Matplotlib kwargs (e.g., **alpha**, **linewidth**)\n",
    "- **log_scale**: bool or (bool, bool) to log-scale x/y; **ax**: target Axes\n",
    "\n",
    "Docs: [seaborn.histplot](https://seaborn.pydata.org/generated/seaborn.histplot.html)"
   ]
  },
  {
   "cell_type": "code",
   "execution_count": null,
   "id": "aa22d572",
   "metadata": {},
   "outputs": [],
   "source": [
    "fig, ax = plt.subplots(figsize=(6, 4))  # single axis.\n",
    "sns.histplot(data=df_tips, x=\"tip_percentage\", ax=ax)"
   ]
  },
  {
   "cell_type": "markdown",
   "id": "0c4b98fc",
   "metadata": {},
   "source": [
    "## Fine-tune the histogram with `bins` and `kde`\n",
    "- `bins` controls the width and number of bars.\n",
    "- `kde` (kernel density estimation) fits a smooth line to the distribution (better for interpretation)."
   ]
  },
  {
   "cell_type": "code",
   "execution_count": null,
   "id": "3b513b6a",
   "metadata": {},
   "outputs": [],
   "source": [
    "fig, ax = plt.subplots(figsize=(6, 4))  # single axis.\n",
    "sns.histplot(data=df_tips, x=\"tip_percentage\", bins=100, ax=ax, kde=True)"
   ]
  },
  {
   "cell_type": "markdown",
   "id": "d24ead66",
   "metadata": {},
   "source": [
    "# Comparing histograms across different groups with the `hue` parameter\n",
    "- With the `hue=<categorical_column>` parameter, you can compare the histograms across different groups (from different categories in the column)."
   ]
  },
  {
   "cell_type": "code",
   "execution_count": null,
   "id": "a40fce4d",
   "metadata": {},
   "outputs": [],
   "source": [
    "fig, ax = plt.subplots(figsize=(6, 4))  # single axis.\n",
    "sns.histplot(data=df_tips, x=\"tip_percentage\", bins=100, ax=ax, hue=\"sex\", alpha=1, kde=True)"
   ]
  },
  {
   "cell_type": "markdown",
   "id": "1a112bc1",
   "metadata": {},
   "source": [
    "## Fine-tuning the figure with the `alpha` (transparency) parameter\n",
    "- `alpha` ranges from 0 (transparent) to 1 (opaque), and controls the transparency of the bars and kde lines.\n",
    "- Helpful for visualizing multiple overlapping distributions."
   ]
  },
  {
   "cell_type": "code",
   "execution_count": null,
   "id": "a534d59c",
   "metadata": {},
   "outputs": [],
   "source": [
    "fig, ax = plt.subplots(figsize=(6, 4))  # single axis.\n",
    "sns.histplot(data=df_tips, x=\"tip_percentage\", bins=100, ax=ax, hue=\"sex\", alpha=0.5, kde=True)"
   ]
  },
  {
   "cell_type": "markdown",
   "id": "19ade256",
   "metadata": {},
   "source": [
    "## Fine-tuning the figure with the `set_xlim` and `set_ylim` parameters on the `ax` object\n",
    "- `ax.set_xlim(min_x, max_x)` and `ax.set_ylim(min_y, max_y)` are used to set the limits of the x and y axes.\n",
    "- Helpful to zoom in on a specific range of the data."
   ]
  },
  {
   "cell_type": "code",
   "execution_count": null,
   "id": "49c929e9",
   "metadata": {},
   "outputs": [],
   "source": [
    "fig, ax = plt.subplots(figsize=(6, 4))  # single axis.\n",
    "sns.histplot(data=df_tips, x=\"tip_percentage\", bins=100, ax=ax, hue=\"sex\", alpha=0.5, kde=True)\n",
    "ax.set_xlim(0, 30)"
   ]
  },
  {
   "cell_type": "markdown",
   "id": "b235ee12",
   "metadata": {},
   "source": [
    "## Putting several histograms on different `ax` within the same `fig`."
   ]
  },
  {
   "cell_type": "code",
   "execution_count": null,
   "id": "d7f00e73",
   "metadata": {},
   "outputs": [],
   "source": [
    "categorical_columns = [\"sex\", \"smoker\", \"day\", \"time\", \"size\"]\n",
    "fig, axes = plt.subplots(nrows=1, ncols=len(categorical_columns), figsize=(5*len(categorical_columns), 5))\n",
    "for i in range(len(categorical_columns)):\n",
    "    sns.histplot(data=df_tips, x=\"tip_percentage\", bins=100, ax=axes[i], hue=categorical_columns[i], alpha=0.5, kde=True)\n",
    "    # set the axis labels\n",
    "    axes[i].set_title(f\"Distribution of Tip Percentage by {categorical_columns[i]}\")\n",
    "fig.supxlabel(\"Tip Percentage by Different Categories\")"
   ]
  },
  {
   "cell_type": "markdown",
   "id": "2f78952a",
   "metadata": {},
   "source": [
    "# Part Two: Exploring the Relationship between Two Variables."
   ]
  },
  {
   "cell_type": "markdown",
   "id": "9485f85f",
   "metadata": {},
   "source": [
    "## One Continuous and One Categorical Variable Categorical Comparison\n",
    "\n",
    "- Main idea:\n",
    "    - We wish to see how the distribution of variable `x` differs across levels of another categorical variable.\n",
    "    - we want to first group the dataset by the categorical variable.\n",
    "    - Plot the distribution of `x` for each data split.\n",
    "    - Compare them.\n",
    "\n",
    "\n",
    "#### What we did with histogram + hue was fine."
   ]
  },
  {
   "cell_type": "code",
   "execution_count": null,
   "id": "e43fb7e9",
   "metadata": {},
   "outputs": [],
   "source": [
    "# using hue could be messy, especially when you have to print it / have multiple hue levels.\n",
    "fig, ax = plt.subplots(figsize=(6, 4))\n",
    "# This is fine....\n",
    "sns.histplot(data=df_tips, x=\"tip_percentage\", bins=100, ax=ax, hue=\"sex\", alpha=0.5, kde=True)"
   ]
  },
  {
   "cell_type": "markdown",
   "id": "7e95a9ec",
   "metadata": {},
   "source": [
    "#### But it becomes less readable when (1) printed on grayscale paper and (2) the number of categories grows."
   ]
  },
  {
   "cell_type": "code",
   "execution_count": null,
   "id": "5de36155",
   "metadata": {},
   "outputs": [],
   "source": [
    "fig, ax = plt.subplots(figsize=(6, 4))\n",
    "sns.histplot(data=df_tips, x=\"tip_percentage\", bins=100, ax=ax, hue=\"day\", alpha=0.5, kde=True)"
   ]
  },
  {
   "cell_type": "code",
   "execution_count": null,
   "id": "4f4f6237",
   "metadata": {},
   "outputs": [],
   "source": [
    "fig, ax = plt.subplots(figsize=(6, 4))\n",
    "sns.histplot(data=df_tips, x=\"tip_percentage\", bins=100, ax=ax, hue=\"day\", alpha=0.5, kde=True, palette=\"Greys\")"
   ]
  },
  {
   "cell_type": "markdown",
   "id": "6547f57b",
   "metadata": {},
   "source": [
    "## Compare distributions across categories (median, quartiles, whiskers, outliers) with `sns.boxplot` and `sns.violinplot`"
   ]
  },
  {
   "cell_type": "markdown",
   "id": "7c84c4b6",
   "metadata": {},
   "source": [
    "### Quick API Guide (Box/Violin used below)\n",
    "\n",
    "- **sns.boxplot(data=None, x=None, y=None, hue=None, order=None, dodge=True, whis=1.5, showfliers=True, palette=None, width=0.8)**\n",
    "  - **data**: DataFrame to plot\n",
    "  - **x/y**: Column names for categorical and continuous variables\n",
    "  - **hue**: Column name to split data into different colored groups\n",
    "  - **order**: List specifying the order of categorical levels\n",
    "  - **whis**: Proportion of IQR past quartiles to extend whiskers (default 1.5)\n",
    "  - **showfliers**: Whether to show outlier points beyond whiskers\n",
    "  - **dodge**: When using hue, whether to separate boxes side-by-side\n",
    "  - **width**: Width of boxes (0-1 scale)\n",
    "  - **palette**: Color palette for different categories\n",
    "\n",
    "- **sns.violinplot(data=None, x=None, y=None, hue=None, split=False, inner='box', bw_method='scott', cut=2, scale='area', dodge=True, palette=None)**\n",
    "  - **data**: DataFrame to plot\n",
    "  - **x/y**: Column names for categorical and continuous variables\n",
    "  - **hue**: Column name to split data into different colored groups\n",
    "  - **split**: When True with 2-level hue, draws half-violins on each side\n",
    "  - **inner**: Representation of data inside violin ('box', 'quartile', 'point', 'stick', or None)\n",
    "  - **bw_method**: Method for calculating kernel density bandwidth ('scott', 'silverman', or float)\n",
    "  - **cut**: Distance past extreme data points to extend density curve (in bandwidths)\n",
    "  - **scale**: Method to scale violin width ('area', 'count', or 'width')\n",
    "  - **dodge**: When using hue, whether to separate violins side-by-side\n",
    "  - **palette**: Color palette for different categories"
   ]
  },
  {
   "cell_type": "code",
   "execution_count": null,
   "id": "5c1a1319",
   "metadata": {},
   "outputs": [],
   "source": [
    "fig, ax = plt.subplots(figsize=(6, 4))\n",
    "sns.boxplot(data=df_tips, x=\"day\", y=\"tip_percentage\", ax=ax)"
   ]
  },
  {
   "cell_type": "markdown",
   "id": "6744db90",
   "metadata": {},
   "source": [
    "### How to read a boxplot?\n",
    "- The box represents the interquartile range (IQR) — the middle 50% of the data (25% to 75%-percentile).\n",
    "- The line in the box represents the median (50%-percentile).\n",
    "- The whiskers represent the range of the data from 1.5 IQR to the minimum or maximum of the data.\n",
    "- Individual circles represent outliers — data points that lie beyond 1.5×IQR from the box."
   ]
  },
  {
   "cell_type": "markdown",
   "id": "fe2ef5fd",
   "metadata": {},
   "source": [
    "### Remove the outliers with `showfliers=False`"
   ]
  },
  {
   "cell_type": "code",
   "execution_count": null,
   "id": "119a6ae0",
   "metadata": {},
   "outputs": [],
   "source": [
    "fig, ax = plt.subplots(figsize=(6, 4))\n",
    "sns.boxplot(data=df_tips, x=\"day\", y=\"tip_percentage\", showfliers=False, ax=ax)"
   ]
  },
  {
   "cell_type": "markdown",
   "id": "d8b39d9d",
   "metadata": {},
   "source": [
    "#### Take-away: the boxplot shows a few important summary statistics of the distribution of the data on the splits corresponding to each category."
   ]
  },
  {
   "cell_type": "markdown",
   "id": "2e334ff0",
   "metadata": {},
   "source": [
    "## The Violin Plot\n",
    "- The violin plot is a combination of the boxplot and the kernel density estimation.\n",
    "- It shows the distribution of the data on the splits corresponding to each category.\n",
    "- It is more informative than the boxplot but more complex to read than the boxplot."
   ]
  },
  {
   "cell_type": "code",
   "execution_count": null,
   "id": "859869d3",
   "metadata": {},
   "outputs": [],
   "source": [
    "fig, ax = plt.subplots(figsize=(6, 4))\n",
    "sns.violinplot(data=df_tips, x=\"day\", y=\"tip_percentage\", ax=ax)"
   ]
  },
  {
   "cell_type": "markdown",
   "id": "73ef2ed9",
   "metadata": {},
   "source": [
    "## Exploring the Relationship between Two Continuous Variables"
   ]
  },
  {
   "cell_type": "markdown",
   "id": "e36b3d72",
   "metadata": {},
   "source": [
    "## Relationship: `sns.scatterplot`\n",
    "Visualize the relationship between two numeric variables. Add `hue` (and optionally `style`) for a categorical split."
   ]
  },
  {
   "cell_type": "markdown",
   "id": "af204502",
   "metadata": {},
   "source": [
    "\n",
    "- **sns.scatterplot(data=None, x=None, y=None, hue=None, style=None, size=None, sizes=None, alpha=None, palette=None, ax=None)**\n",
    "  - **data**: DataFrame containing the data to plot\n",
    "  - **x, y**: column names for the x-axis and y-axis variables\n",
    "  - **hue**: column name to color points by category (adds a legend)\n",
    "  - **style**: column name to vary marker shapes by category\n",
    "  - **size**: column name to scale point sizes by a numeric variable\n",
    "  - **sizes**: tuple (min_size, max_size) to control the range of point sizes\n",
    "  - **alpha**: transparency level (0.0 to 1.0); useful for handling overplotting\n",
    "  - **palette**: color scheme (e.g., 'viridis', 'Set2', or custom list)\n",
    "  - **ax**: matplotlib Axes object to draw the plot onto (for subplots)\n",
    "  - Docs: https://seaborn.pydata.org/generated/seaborn.scatterplot.html\n"
   ]
  },
  {
   "cell_type": "markdown",
   "id": "6cbb22c5",
   "metadata": {},
   "source": [
    "## The basic scatter plot with `sns.scatterplot`"
   ]
  },
  {
   "cell_type": "code",
   "execution_count": null,
   "id": "9f880aa6",
   "metadata": {},
   "outputs": [],
   "source": [
    "plt.figure(figsize=(6,4))\n",
    "sns.scatterplot(data=df_tips, x=\"total_bill\", y=\"tip\")\n",
    "plt.title(\"Tip vs Total Bill\")\n",
    "plt.show()"
   ]
  },
  {
   "cell_type": "markdown",
   "id": "4ffb2747",
   "metadata": {},
   "source": [
    "## Add grouping with `hue` (color dots by category)"
   ]
  },
  {
   "cell_type": "code",
   "execution_count": null,
   "id": "2abec565",
   "metadata": {},
   "outputs": [],
   "source": [
    "# Tips: total_bill vs tip colored by time\n",
    "plt.figure(figsize=(6, 4))\n",
    "sns.scatterplot(data=df_tips, x=\"total_bill\", y=\"tip\", hue=\"time\")\n",
    "plt.title(\"Tip vs Total Bill (by Time)\")\n",
    "plt.show()"
   ]
  },
  {
   "cell_type": "markdown",
   "id": "bf26c261",
   "metadata": {},
   "source": [
    "## There are several ways to change points in the scatter plot to reflect the grouping, such as with `style` (change marker shapes by category)"
   ]
  },
  {
   "cell_type": "code",
   "execution_count": null,
   "id": "d8262862",
   "metadata": {},
   "outputs": [],
   "source": [
    "# Tips: total_bill vs tip colored by time\n",
    "plt.figure(figsize=(6, 4))\n",
    "sns.scatterplot(data=df_tips, x=\"total_bill\", y=\"tip\", style=\"time\")\n",
    "plt.title(\"Tip vs Total Bill (by Time)\")\n",
    "plt.show()"
   ]
  },
  {
   "cell_type": "markdown",
   "id": "36ecb662",
   "metadata": {},
   "source": [
    "### You can also combine them to make the distinction more clear."
   ]
  },
  {
   "cell_type": "code",
   "execution_count": null,
   "id": "dab2916c",
   "metadata": {},
   "outputs": [],
   "source": [
    "# Tips: total_bill vs tip colored by time\n",
    "plt.figure(figsize=(6, 4))\n",
    "sns.scatterplot(data=df_tips, x=\"total_bill\", y=\"tip\", style=\"time\", hue=\"time\")\n",
    "plt.title(\"Tip vs Total Bill (by Time)\")\n",
    "plt.show()"
   ]
  },
  {
   "cell_type": "markdown",
   "id": "65d06fd1",
   "metadata": {},
   "source": [
    "## If the categorical variable has some sort of order (e.g., the party `size`), we can use `order` to specify the order of the categories."
   ]
  },
  {
   "cell_type": "code",
   "execution_count": null,
   "id": "ded89a8b",
   "metadata": {},
   "outputs": [],
   "source": [
    "plt.figure(figsize=(6, 4))\n",
    "sns.scatterplot(data=df_tips, x=\"total_bill\", y=\"tip\", size=\"size\")\n",
    "plt.title(\"Tip vs Total Bill (by Time)\")\n",
    "plt.show()"
   ]
  },
  {
   "cell_type": "markdown",
   "id": "e6a2a756",
   "metadata": {},
   "source": [
    "## Recommendation: while producing figures for publication, prefer `style` and `size` over `hue` because there is a high chance that your readers are printing the paper in grayscale."
   ]
  },
  {
   "cell_type": "markdown",
   "id": "363345f5",
   "metadata": {},
   "source": [
    "# Make it Fancier with `sns.jointplot`, showing the distributions of single variables as well.\n",
    "- There are two different types of plotting functions in `seaborn`.\n",
    "- The more basic ones like `scatterplot` are **ax-level** functions, where you feed the `ax` object to the function and the function will plot on the `ax` object.\n",
    "- The other ones are **figure-level** functions, which are more complex and will create the `fig` and `ax` objects for you internally (because it is more complex and needs to access both pieces of information).\n",
    "- This does not matter too much, just check the API document."
   ]
  },
  {
   "cell_type": "code",
   "execution_count": null,
   "id": "145a4c00",
   "metadata": {},
   "outputs": [],
   "source": [
    "sns.jointplot(data=df_tips, x=\"total_bill\", y=\"tip\")"
   ]
  },
  {
   "cell_type": "markdown",
   "id": "9a4dc432",
   "metadata": {},
   "source": [
    "## Add the KDE estimation and hue"
   ]
  },
  {
   "cell_type": "code",
   "execution_count": null,
   "id": "cc08139f",
   "metadata": {},
   "outputs": [],
   "source": [
    "sns.jointplot(data=df_tips, x=\"total_bill\", y=\"tip\", hue=\"sex\", kind=\"kde\", fill=True, alpha=0.5)"
   ]
  },
  {
   "cell_type": "markdown",
   "id": "d2f38949",
   "metadata": {},
   "source": [
    "### Quick API Guide (Pairplot used below)\n",
    "\n",
    "- **sns.pairplot(data, vars=None, hue=None, corner=False, diag_kind='auto', kind='scatter', height=2.5, aspect=1.0, plot_kws=None, diag_kws=None)**\n",
    "  - **vars**: subset numeric columns; **hue**: color by category; **corner**: lower triangle only\n",
    "  - **diag_kind**: 'kde' or 'hist'; **kind**: off-diagonal plot type; **height/aspect**: sizing\n"
   ]
  },
  {
   "cell_type": "markdown",
   "id": "46057c8a",
   "metadata": {},
   "source": [
    "# Exploring the Correlation between Any Pair of Two Continuous Variables with the `sns.pairplot`"
   ]
  },
  {
   "cell_type": "code",
   "execution_count": null,
   "id": "db43e94a",
   "metadata": {},
   "outputs": [],
   "source": [
    "sns.pairplot(data=df_tips, diag_kind=\"kde\", height=2.5)"
   ]
  },
  {
   "cell_type": "markdown",
   "id": "9c8e5f37",
   "metadata": {},
   "source": [
    "## Visualizing Variable Correlation with `sns.heatmap`\n",
    "- `sns.heatmap(data, annot=True, cmap='coolwarm', vmin=None, vmax=None, center=None, fmt='.2f', linewidths=0, linecolor='white', cbar=True, cbar_kws=None, cbar_ax=None, square=False, xticklabels='auto', yticklabels='auto', mask=None, ax=None, **kwargs)`\n",
    "  - **annot**: show data values; **cmap**: color map; **vmin/vmax**: color scale limits\n",
    "  - **center**: color midpoint; **fmt**: format string for annotations\n",
    "  - **linewidths**: width of lines between cells; **linecolor**: color of lines\n",
    "  - **cbar**: show color bar; **cbar_kws**: color bar kwargs\n",
    "  - **cbar_ax**: color bar axis; **square**: make cells square\n",
    "  - **xticklabels/yticklabels**: show/hide tick labels"
   ]
  },
  {
   "cell_type": "code",
   "execution_count": null,
   "id": "a295d832",
   "metadata": {},
   "outputs": [],
   "source": [
    "df_tips[\"sex_female\"] = (df_tips[\"sex\"] == \"Female\").astype(int)\n",
    "df_tips[\"is_smoker\"] = (df_tips[\"smoker\"] == \"Yes\").astype(int)"
   ]
  },
  {
   "cell_type": "code",
   "execution_count": null,
   "id": "3e94dfa9",
   "metadata": {},
   "outputs": [],
   "source": [
    "corr_matrix = df_tips[[\"total_bill\", \"tip\", \"sex_female\", \"is_smoker\", \"size\", \"tip_percentage\"]].corr()\n",
    "corr_matrix"
   ]
  },
  {
   "cell_type": "code",
   "execution_count": null,
   "id": "d8b79bdf",
   "metadata": {},
   "outputs": [],
   "source": [
    "fig, ax = plt.subplots(figsize=(9, 6))\n",
    "sns.heatmap(corr_matrix, annot=True, cmap='coolwarm', center=0, fmt='.2f', linewidths=0.5, linecolor='white', square=True, ax=ax)\n",
    "ax.set_title(\"Correlation Matrix of Tip Dataset Variables\", fontsize=14, fontweight='bold')\n",
    "plt.tight_layout()"
   ]
  },
  {
   "cell_type": "markdown",
   "id": "6d43d774",
   "metadata": {},
   "source": [
    "## Let's now introduce some modelling (e.g., OLS) with the `sns.regplot` (ax-level function)"
   ]
  },
  {
   "cell_type": "code",
   "execution_count": null,
   "id": "5cdac008",
   "metadata": {},
   "outputs": [],
   "source": [
    "fig, ax = plt.subplots(figsize=(9, 6))\n",
    "sns.regplot(data=df_tips, x=\"total_bill\", y=\"tip\", ax=ax)\n",
    "ax.set_title(\"Relationship Between Total Bill and Tip with Linear Regression\", fontsize=14, fontweight='bold')\n",
    "ax.set_xlabel(\"Total Bill ($)\", fontsize=12)\n",
    "ax.set_ylabel(\"Tip ($)\", fontsize=12)\n",
    "plt.tight_layout()"
   ]
  },
  {
   "cell_type": "markdown",
   "id": "3f1b4139",
   "metadata": {},
   "source": [
    "## `sns.lmplot` is a figure-level function that is more complex and will create the `fig` and `ax` objects for you internally."
   ]
  },
  {
   "cell_type": "code",
   "execution_count": null,
   "id": "975a9d86",
   "metadata": {},
   "outputs": [],
   "source": [
    "sns.lmplot(data=df_tips, x=\"total_bill\", y=\"tip\", hue=\"sex\", height=3, aspect=1)"
   ]
  },
  {
   "cell_type": "markdown",
   "id": "5e238f4e",
   "metadata": {},
   "source": [
    "## Figure-level functions are capable of doing much more complex things, like plotting data from different categories in different subplots (we did this before).\n",
    "\n",
    "### Use the `col` parameter to specify the categorical variable to split the data into different subplots.\n",
    "\n",
    "### Quick API Guide (lmplot used below)\n",
    " \n",
    " - **sns.lmplot(data, x=None, y=None, hue=None, col=None, row=None, height=3, aspect=1, scatter_kws=None, line_kws=None, ci=95, order=1)**\n",
    "   - **hue**: color by category; **col/row**: facet by categorical variable\n",
    "   - **height/aspect**: control subplot size; **scatter_kws/line_kws**: styling dictionaries\n",
    "   - **ci**: confidence interval (95 default); **order**: polynomial degree for regression\n",
    "\n"
   ]
  },
  {
   "cell_type": "code",
   "execution_count": null,
   "id": "b554481a",
   "metadata": {},
   "outputs": [],
   "source": [
    "sns.lmplot(data=df_tips, x=\"total_bill\", y=\"tip\", hue=\"sex\", col=\"day\", height=3, aspect=1)"
   ]
  },
  {
   "cell_type": "markdown",
   "id": "7423279a",
   "metadata": {},
   "source": [
    "## Exporting Figures for reports and papers (1–2 minutes)\n",
    "- Use `plt.savefig(\"figure.png\", dpi=300, bbox_inches=\"tight\")` for high-resolution PNG.\n",
    "- Prefer vector formats (`.pdf`, `.svg`) for line art; keep text editable.\n",
    "- Control size at creation: `plt.figure(figsize=(w, h))` or `plt.subplots(figsize=...)`.\n",
    "- For Seaborn figure-level objects (`displot`, `catplot`, `lmplot`), save with `g.figure.savefig(...)`.\n",
    "- Ensure consistent fonts/colors; set once via `sns.set_theme(...)` or Matplotlib rcParams.\n"
   ]
  },
  {
   "cell_type": "markdown",
   "id": "5bcec705",
   "metadata": {},
   "source": [
    "# Take-away: (i) Don't pack too much information in a single plot! (ii) Don't rely on color too much."
   ]
  },
  {
   "cell_type": "markdown",
   "id": "11b81480",
   "metadata": {},
   "source": [
    "# Attendance code is on the whiteboard, don't forget to submit it.\n",
    "\n",
    "<img src=\"./images/CME193_Lecture_5_Attendance_Form.png\" width=\"50%\">"
   ]
  },
  {
   "cell_type": "markdown",
   "id": "be0a4349",
   "metadata": {},
   "source": [
    "# Appendix: API Quick Reference (High-usage kwargs + official docs)\n",
    "\n",
    "### Matplotlib\n",
    "- **plt.subplots(nrows=1, ncols=1, figsize=None, dpi=None, sharex=False, sharey=False, constrained_layout=False, layout=None)**\n",
    "  - **nrows / ncols**: grid shape (rows × cols)\n",
    "  - **figsize**: canvas size in inches (width, height)\n",
    "  - **dpi**: dots-per-inch, output resolution\n",
    "  - **sharex / sharey**: share axis limits/scales across subplots\n",
    "  - **constrained_layout/layout**: auto spacing engine for subplots\n",
    "  - Returns **(fig, ax or axes)**\n",
    "  - Docs: https://matplotlib.org/stable/api/_as_gen/matplotlib.pyplot.subplots.html\n",
    "- **Axes basics: set_title, set_xlabel, set_ylabel, set_xlim, set_ylim, legend**\n",
    "  - Frequent:\n",
    "    - **labelpad**: label–axis spacing\n",
    "    - **loc**: legend location\n",
    "    - **fontsize**: text size\n",
    "    - **x/y limits**: visible range\n",
    "  - Axes API: https://matplotlib.org/stable/api/axes_api.html\n",
    "- **Figure/Axes save: plt.savefig / Figure.savefig(fname, dpi=None, bbox_inches=None, transparent=False, facecolor=None, edgecolor=None, format=None, metadata=None)**\n",
    "  - **dpi**: output resolution; **bbox_inches='tight'** trims whitespace; **transparent=True** makes background transparent; **format** overrides by extension\n",
    "  - Docs: https://matplotlib.org/stable/api/_as_gen/matplotlib.pyplot.savefig.html\n",
    "- **Layout & style**\n",
    "  - **plt.tight_layout()**: auto-adjust subplot padding to reduce overlap\n",
    "  - **plt.style.use([...])**: apply one or more predefined style sheets\n",
    "  - **matplotlib.ticker**: **StrMethodFormatter** (string-format ticks, e.g., currency), **PercentFormatter** (0–1 to %)\n",
    "    Docs: https://matplotlib.org/stable/api/ticker_api.html\n",
    "\n",
    "### Seaborn (dataset-oriented)\n",
    "- **sns.load_dataset(name, cache=True)**\n",
    "  - Loads example dataset by name; returns DataFrame\n",
    "  - Docs: https://seaborn.pydata.org/generated/seaborn.load_dataset.html\n",
    "- **sns.histplot(data=None, x=None, y=None, bins=None, binwidth=None, binrange=None, discrete=False, stat='count', element='bars', fill=True, hue=None, multiple='layer', common_bins=True, common_norm=True, kde=False, color=None, alpha=None, ax=None, log_scale=False)**\n",
    "  - Frequent:\n",
    "    - **x/y**: column to plot\n",
    "    - **bins/binwidth**: bin count or width\n",
    "    - **binrange**: min/max for bins\n",
    "    - **stat**: y-scaling ('count'/'density'/'percent')\n",
    "    - **discrete**: treat values as integers\n",
    "    - **element**: histogram style ('bars'/'step'/'poly')\n",
    "    - **fill**: filled vs outline bars\n",
    "    - **hue**: group by a categorical variable\n",
    "    - **multiple**: combine groups ('layer'/'stack'/'dodge'/'fill')\n",
    "    - **common_bins/common_norm**: align bin edges and normalization across hue\n",
    "    - **kde**: overlay kernel density curve\n",
    "    - **alpha**: bar transparency\n",
    "    - **color**: single color override\n",
    "    - **ax**: target Matplotlib Axes\n",
    "    - **log_scale**: log-scale x and/or y\n",
    "  - Docs: https://seaborn.pydata.org/generated/seaborn.histplot.html\n",
    "- **sns.boxplot(data=None, x=None, y=None, hue=None, order=None, orient=None, width=0.8, dodge=True, showcaps=True, showfliers=True, whis=1.5, linewidth=None, fliersize=5, palette=None, ax=None)**\n",
    "  - Frequent:\n",
    "    - **x/y**: variable mapping\n",
    "    - **hue**: split by category\n",
    "    - **order**: order of categories\n",
    "    - **orient**: 'h' for horizontal or 'v' for vertical\n",
    "    - **whis**: whisker reach from IQR\n",
    "    - **showfliers**: show/hide outliers\n",
    "    - **palette**: colors for categories\n",
    "    - **dodge**: separate hue levels side-by-side\n",
    "    - **width**: box width\n",
    "  - Docs: https://seaborn.pydata.org/generated/seaborn.boxplot.html\n",
    "- **sns.violinplot(data=None, x=None, y=None, hue=None, split=False, inner='box', bw_method='scott', cut=2, scale='area', linewidth=None, palette=None, ax=None, dodge=True)**\n",
    "  - Frequent:\n",
    "    - **inner**: draw stats inside ('box'/'quartile'/None)\n",
    "    - **split**: split violins for two-level hue\n",
    "    - **bw_method**: KDE bandwidth method\n",
    "    - **cut**: extend density past min/max\n",
    "    - **scale**: area/width scaling ('area'/'count'/'width')\n",
    "    - **palette**: colors for categories\n",
    "    - **dodge**: separate hue violins\n",
    "  - Docs: https://seaborn.pydata.org/generated/seaborn.violinplot.html\n",
    "- **sns.swarmplot(data=None, x=None, y=None, hue=None, dodge=False, size=5, alpha=None, palette=None, ax=None)**\n",
    "  - Frequent:\n",
    "    - **size**: marker size\n",
    "    - **alpha**: point transparency\n",
    "    - **dodge**: separate hue levels\n",
    "    - **palette**: colors for categories\n",
    "  - Docs: https://seaborn.pydata.org/generated/seaborn.swarmplot.html\n",
    "- **sns.scatterplot(data=None, x=None, y=None, hue=None, style=None, size=None, sizes=None, alpha=None, palette=None, ax=None)**\n",
    "  - Frequent:\n",
    "    - **hue**: color by category\n",
    "    - **style**: marker shape by category\n",
    "    - **size/sizes**: encode magnitude and mapping\n",
    "    - **alpha**: point transparency\n",
    "    - **palette**: color set\n",
    "    - **ax**: target Matplotlib Axes\n",
    "  - Docs: https://seaborn.pydata.org/generated/seaborn.scatterplot.html\n",
    "- **sns.jointplot(data=None, x=None, y=None, kind='scatter', hue=None, height=6, space=0.2, ratio=5, marginal_kws=None, joint_kws=None)**\n",
    "  - **kind** (bivariate type: 'scatter'|'hex'|'kde'|'hist'|'reg'), **hue** (grouping), **height** (figure size), **space** (gap to marginals), **ratio** (joint:marginal size), pass styling via **marginal_kws/joint_kws**\n",
    "  - Docs: https://seaborn.pydata.org/generated/seaborn.jointplot.html\n",
    "- **sns.pairplot(data, vars=None, hue=None, corner=False, diag_kind='auto', kind='scatter', plot_kws=None, diag_kws=None, height=2.5, aspect=1.0)**\n",
    "  - Frequent:\n",
    "    - **vars**: subset columns to plot\n",
    "    - **hue**: color by category\n",
    "    - **diag_kind**: 'kde' or 'hist' on diagonal\n",
    "    - **corner**: show lower triangle only\n",
    "    - **height/aspect**: subplot size and aspect ratio\n",
    "  - Docs: https://seaborn.pydata.org/generated/seaborn.pairplot.html\n",
    "- **sns.heatmap(data, vmin=None, vmax=None, cmap=None, center=None, annot=False, fmt='.2g', linewidths=0, linecolor='white', cbar=True, square=False)**\n",
    "  - Frequent:\n",
    "    - **annot**: draw numeric values\n",
    "    - **fmt**: annotation format string\n",
    "    - **cmap**: colormap selection\n",
    "    - **vmin/vmax/center**: color scaling\n",
    "    - **square**: force square cells\n",
    "    - **linewidths/linecolor**: gridline width/color\n",
    "    - **cbar**: show colorbar\n",
    "  - Docs: https://seaborn.pydata.org/generated/seaborn.heatmap.html\n",
    "- **sns.regplot(data=None, x=None, y=None, scatter=True, ci=95, n_boot=1000, order=1, robust=False, logx=False, truncate=False, line_kws=None, scatter_kws=None)**\n",
    "  - Frequent:\n",
    "    - **scatter_kws={'alpha':0.6}**: point styling\n",
    "    - **line_kws={'color':'black'}**: line styling\n",
    "    - **ci**: confidence interval level\n",
    "    - **errorbar=None**: disable CI (newer seaborn)\n",
    "    - **order**: polynomial degree of fit\n",
    "    - **robust**: robust regression\n",
    "    - **logx**: log-scale x-axis\n",
    "  - Docs: https://seaborn.pydata.org/generated/seaborn.regplot.html\n",
    "- **sns.lmplot(data=None, x=None, y=None, hue=None, col=None, row=None, height=5, aspect=1, scatter_kws=None, line_kws=None)**\n",
    "  - Figure-level regression with faceting; **col/row** (facet by variables), **hue** (group fit), **height/aspect** (size), **scatter_kws/line_kws** (styling)\n",
    "  - Docs: https://seaborn.pydata.org/generated/seaborn.lmplot.html\n",
    "- **sns.displot(data=None, x=None, y=None, hue=None, col=None, row=None, kind='hist', bins=None, binwidth=None, multiple='layer', common_bins=True, common_norm=True, height=3, aspect=1)**\n",
    "  - Figure-level; Frequent:\n",
    "    - **kind**: 'hist'/'kde'/'ecdf'\n",
    "    - **col/row**: facet into columns/rows\n",
    "    - **multiple**: overlay mode\n",
    "    - **common_bins/common_norm**: align bins/normalization\n",
    "    - **height/aspect**: figure sizing\n",
    "  - Docs: https://seaborn.pydata.org/generated/seaborn.displot.html\n",
    "- **sns.catplot(data=None, x=None, y=None, hue=None, col=None, row=None, kind='box', height=3, aspect=1, dodge=True, order=None, palette=None)**\n",
    "  - Figure-level categorical; **kind** ('box'/'violin'/'bar'/'point'/'strip'/'swarm'), **col/row** (facet by vars), **dodge** (split hue), **order** (category order), **palette** (colors), **height/aspect** (size)\n",
    "  - Docs: https://seaborn.pydata.org/generated/seaborn.catplot.html\n",
    "- **seaborn.FacetGrid(data, row=None, col=None, hue=None, height=3, aspect=1)**\n",
    "  - Use **map_dataframe(func, ...)** to draw per facet; **add_legend()** to show hue legend; iterate **g.axes.flat** to tweak\n",
    "  - Docs: https://seaborn.pydata.org/generated/seaborn.FacetGrid.html\n",
    "\n",
    "### Seaborn: distributions and time/line\n",
    "- **sns.kdeplot(data=None, x=None, y=None, hue=None, fill=False, bw_method='scott', thresh=0.05, levels=10)**  \n",
    "  - Frequent:\n",
    "    - **fill**: shade the density area\n",
    "    - **bw_method**: smoothing bandwidth\n",
    "    - **thresh/levels**: contour thresholds and count\n",
    "  Docs: https://seaborn.pydata.org/generated/seaborn.kdeplot.html\n",
    "- **sns.ecdfplot(data=None, x=None, hue=None, stat='proportion')**  \n",
    "  - Frequent:\n",
    "    - **stat**: 'proportion' or 'count' for y-axis\n",
    "    - **hue**: separate ECDFs by category\n",
    "  Docs: https://seaborn.pydata.org/generated/seaborn.ecdfplot.html\n",
    "- **sns.rugplot(data=None, x=None, height=0.025)**  \n",
    "  - Frequent:\n",
    "    - **height**: tick length relative to axis\n",
    "  Docs: https://seaborn.pydata.org/generated/seaborn.rugplot.html\n",
    "- **sns.lineplot(data=None, x=None, y=None, hue=None, style=None, size=None, estimator=None, errorbar=('ci', 95))**  \n",
    "  - Frequent:\n",
    "    - **estimator**: aggregation per x (e.g., mean/median)\n",
    "    - **errorbar**: interval type (e.g., 'ci', 'sd', ('pi', q))\n",
    "    - **hue/style/size**: map category to color/marker/size\n",
    "  Docs: https://seaborn.pydata.org/generated/seaborn.lineplot.html\n",
    "\n",
    "### Seaborn aesthetics\n",
    "- **sns.set_theme(style='whitegrid', context='notebook', palette=None)**\n",
    "  - Frequent:\n",
    "    - **style**: axes look ('white'/'dark'/'whitegrid'/'darkgrid'/'ticks')\n",
    "    - **context**: scale ('paper'/'notebook'/'talk'/'poster')\n",
    "    - **palette**: default color cycle\n",
    "- **sns.set_style('white'|'dark'|'whitegrid'|'darkgrid'|'ticks')**\n",
    "  - Set only the axes style (grid/spines)\n",
    "- **sns.set_palette(name or list)**\n",
    "  - Set the active color cycle globally\n",
    "  - Docs: https://seaborn.pydata.org/generated/seaborn.set_theme.html, https://seaborn.pydata.org/generated/seaborn.set_style.html, https://seaborn.pydata.org/generated/seaborn.set_palette.html\n",
    "- **sns.despine(trim=False, offset=None)**  \n",
    "  - Frequent:\n",
    "    - **trim**: limit spines to tick range\n",
    "    - **offset**: move spines inwards\n",
    "  Docs: https://seaborn.pydata.org/generated/seaborn.despine.html\n",
    "\n",
    "Tip: Most functions accept **palette** (color set), **hue_order** (category order for hue), **legend** (whether/how to show legend), and Matplotlib styling via `..._kws`.\n"
   ]
  },
  {
   "cell_type": "markdown",
   "id": "ceb3e754",
   "metadata": {},
   "source": []
  }
 ],
 "metadata": {
  "kernelspec": {
   "display_name": "cme193-autumn-2025",
   "language": "python",
   "name": "python3"
  },
  "language_info": {
   "codemirror_mode": {
    "name": "ipython",
    "version": 3
   },
   "file_extension": ".py",
   "mimetype": "text/x-python",
   "name": "python",
   "nbconvert_exporter": "python",
   "pygments_lexer": "ipython3",
   "version": "3.12.11"
  }
 },
 "nbformat": 4,
 "nbformat_minor": 5
}
