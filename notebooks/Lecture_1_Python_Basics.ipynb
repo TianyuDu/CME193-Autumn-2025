{
 "cells": [
  {
   "cell_type": "markdown",
   "metadata": {
    "id": "3fufqWYLlYiV"
   },
   "source": [
    "# Lecture 1: Python Basics\n",
    "1. Intro to CME 193 (see slides)\n",
    "2. Python Foundations\n",
    "* Variable\n",
    "* Operator\n",
    "* Strings\n",
    "* Control Flow\n",
    "* Exception\n",
    "* Functions\n",
    "* Collections"
   ]
  },
  {
   "cell_type": "markdown",
   "metadata": {
    "id": "SSKIUbzqcbHv"
   },
   "source": [
    "# Python"
   ]
  },
  {
   "cell_type": "markdown",
   "metadata": {
    "vscode": {
     "languageId": "raw"
    }
   },
   "source": [
    "### How to use this notebook (Self‑guided)\n",
    "- Run a cell with Shift+Enter. Edit code and re-run to experiment.\n",
    "- Read the short \"Self‑study notes\" before each topic, then try the examples below them.\n",
    "- When you see an error, read it—errors are normal while learning.\n",
    "- Try the Exercises sections; copy examples as a starting point.\n",
    "- Use built-ins to explore:\n",
    "  - `help(object_or_function)` shows documentation.\n",
    "  - `dir(object)` lists methods/attributes.\n",
    "  - `type(value)` shows the type.\n",
    "- Save often. Restart the kernel if things get confusing (it clears variables).\n"
   ]
  },
  {
   "cell_type": "markdown",
   "metadata": {
    "id": "p9aG5dtscbHw"
   },
   "source": [
    "![xkcd_python](https://imgs.xkcd.com/comics/python.png)\n",
    "(From [xkcd](https://xkcd.com/))"
   ]
  },
  {
   "cell_type": "code",
   "execution_count": 1,
   "metadata": {},
   "outputs": [],
   "source": [
    "# import antigravity  # this will open a browser window."
   ]
  },
  {
   "cell_type": "code",
   "execution_count": 2,
   "metadata": {
    "colab": {
     "base_uri": "https://localhost:8080/"
    },
    "executionInfo": {
     "elapsed": 6,
     "status": "ok",
     "timestamp": 1743619190023,
     "user": {
      "displayName": "Julie F. Wang",
      "userId": "05719936136264505342"
     },
     "user_tz": 420
    },
    "id": "UqyHntC_cbHw",
    "outputId": "2b360652-a35f-44d8-aa83-1f498aa2b569"
   },
   "outputs": [
    {
     "name": "stdout",
     "output_type": "stream",
     "text": [
      "Hello, world!\n"
     ]
    }
   ],
   "source": [
    "print(\"Hello, world!\")"
   ]
  },
  {
   "cell_type": "code",
   "execution_count": 3,
   "metadata": {
    "colab": {
     "base_uri": "https://localhost:8080/"
    },
    "executionInfo": {
     "elapsed": 5,
     "status": "ok",
     "timestamp": 1743619207266,
     "user": {
      "displayName": "Julie F. Wang",
      "userId": "05719936136264505342"
     },
     "user_tz": 420
    },
    "id": "3Yeai9_k8qbD",
    "outputId": "d34fc05b-02fe-4578-9daf-b9d848f62c0b"
   },
   "outputs": [
    {
     "name": "stdout",
     "output_type": "stream",
     "text": [
      "3.141592653589793\n"
     ]
    }
   ],
   "source": [
    "# print value of pi  (I am a comment using hash mark)\n",
    "# The pi (π) is a constant of the math library in Python that returns the value 3.14...\n",
    "import math\n",
    "\n",
    "print(math.pi)"
   ]
  },
  {
   "cell_type": "markdown",
   "metadata": {
    "id": "w6Oof-gM7WHO"
   },
   "source": [
    "# Basic Section (Start)"
   ]
  },
  {
   "cell_type": "markdown",
   "metadata": {
    "id": "BdGrklkzcbHx"
   },
   "source": [
    "## Variables\n",
    "\n",
    "One of the main differences in Python compared to other languages you might be familiar with is that type of a variable is not declared and is determined only during runtime. The varibale is strongly typed, meaning that it do have a type and that the type matters when performing operations on the variable. Python also achieves implicit type conversion of integer (`int`) to floating-point numbers (`float`)."
   ]
  },
  {
   "cell_type": "code",
   "execution_count": null,
   "metadata": {
    "colab": {
     "base_uri": "https://localhost:8080/"
    },
    "executionInfo": {
     "elapsed": 6,
     "status": "ok",
     "timestamp": 1743619275361,
     "user": {
      "displayName": "Julie F. Wang",
      "userId": "05719936136264505342"
     },
     "user_tz": 420
    },
    "id": "FMBoJLc-cbHy",
    "outputId": "54853863-e47b-45e6-bdab-787ea0a3c2b2"
   },
   "outputs": [],
   "source": [
    "x = 1\n",
    "print(x)"
   ]
  },
  {
   "cell_type": "code",
   "execution_count": null,
   "metadata": {},
   "outputs": [],
   "source": [
    "# nicer printing, especially for debugging.\n",
    "print(f\"{x=:}\")"
   ]
  },
  {
   "cell_type": "code",
   "execution_count": null,
   "metadata": {
    "colab": {
     "base_uri": "https://localhost:8080/"
    },
    "executionInfo": {
     "elapsed": 12,
     "status": "ok",
     "timestamp": 1743619278863,
     "user": {
      "displayName": "Julie F. Wang",
      "userId": "05719936136264505342"
     },
     "user_tz": 420
    },
    "id": "zkMB_60ZU_m-",
    "outputId": "caf9a3e4-7697-4e3f-d52b-e1e51927f6cf"
   },
   "outputs": [],
   "source": [
    "x"
   ]
  },
  {
   "cell_type": "code",
   "execution_count": null,
   "metadata": {
    "colab": {
     "base_uri": "https://localhost:8080/"
    },
    "executionInfo": {
     "elapsed": 4,
     "status": "ok",
     "timestamp": 1743619290287,
     "user": {
      "displayName": "Julie F. Wang",
      "userId": "05719936136264505342"
     },
     "user_tz": 420
    },
    "id": "EhmHS2f-n0UX",
    "outputId": "3664a1a1-1097-4fd0-c49c-9efbc5b15c62"
   },
   "outputs": [],
   "source": [
    "x = 1 # integer\n",
    "print(f\"{type(x)=:}\")"
   ]
  },
  {
   "cell_type": "code",
   "execution_count": null,
   "metadata": {
    "colab": {
     "base_uri": "https://localhost:8080/"
    },
    "executionInfo": {
     "elapsed": 5,
     "status": "ok",
     "timestamp": 1743619308885,
     "user": {
      "displayName": "Julie F. Wang",
      "userId": "05719936136264505342"
     },
     "user_tz": 420
    },
    "id": "y5N9BPNdcbHz",
    "outputId": "fa3310ca-e36d-4133-f52a-606cab1253d8"
   },
   "outputs": [],
   "source": [
    "x = 1.0 # floating-point numbers\n",
    "print(x)\n",
    "print(type(x))\n",
    "\n",
    "x = \"string\"  # same as \"string\"\n",
    "print(x)\n",
    "print(type(x))"
   ]
  },
  {
   "cell_type": "code",
   "execution_count": null,
   "metadata": {
    "colab": {
     "base_uri": "https://localhost:8080/"
    },
    "executionInfo": {
     "elapsed": 6,
     "status": "ok",
     "timestamp": 1743619395434,
     "user": {
      "displayName": "Julie F. Wang",
      "userId": "05719936136264505342"
     },
     "user_tz": 420
    },
    "id": "N46OLDQc2SkW",
    "outputId": "ab5e2bd3-4755-4b3f-b981-3bcf46653bda"
   },
   "outputs": [],
   "source": [
    "1.0 == \"1.0\" # float and str are not equal"
   ]
  },
  {
   "cell_type": "code",
   "execution_count": null,
   "metadata": {
    "colab": {
     "base_uri": "https://localhost:8080/"
    },
    "executionInfo": {
     "elapsed": 4,
     "status": "ok",
     "timestamp": 1743619429717,
     "user": {
      "displayName": "Julie F. Wang",
      "userId": "05719936136264505342"
     },
     "user_tz": 420
    },
    "id": "Wkhw6PnqU34F",
    "outputId": "0d54cd64-9e57-4bed-a6c4-2e658e97764d"
   },
   "outputs": [],
   "source": [
    "1.0 == 1 # implicit type conversion"
   ]
  },
  {
   "cell_type": "code",
   "execution_count": null,
   "metadata": {
    "colab": {
     "base_uri": "https://localhost:8080/"
    },
    "executionInfo": {
     "elapsed": 8,
     "status": "ok",
     "timestamp": 1743619459979,
     "user": {
      "displayName": "Julie F. Wang",
      "userId": "05719936136264505342"
     },
     "user_tz": 420
    },
    "id": "Wc6vev4p0XmK",
    "outputId": "766b4167-d4e6-4eac-f423-d0042e2ea0d5"
   },
   "outputs": [],
   "source": [
    "int(1.0)"
   ]
  },
  {
   "cell_type": "code",
   "execution_count": null,
   "metadata": {
    "colab": {
     "base_uri": "https://localhost:8080/"
    },
    "executionInfo": {
     "elapsed": 42,
     "status": "ok",
     "timestamp": 1743619466458,
     "user": {
      "displayName": "Julie F. Wang",
      "userId": "05719936136264505342"
     },
     "user_tz": 420
    },
    "id": "YF6wBwcC2W6N",
    "outputId": "06d928e4-eb50-470d-a416-95763f27d075"
   },
   "outputs": [],
   "source": [
    "1.0 == int(1.0) # explicit type conversion"
   ]
  },
  {
   "cell_type": "code",
   "execution_count": null,
   "metadata": {
    "colab": {
     "base_uri": "https://localhost:8080/",
     "height": 176
    },
    "executionInfo": {
     "elapsed": 6,
     "status": "error",
     "timestamp": 1743619477606,
     "user": {
      "displayName": "Julie F. Wang",
      "userId": "05719936136264505342"
     },
     "user_tz": 420
    },
    "id": "7HVL44a50bfC",
    "outputId": "c7f4a0dd-bd22-4bde-c1e4-30082254d2ec"
   },
   "outputs": [],
   "source": [
    "print(x)\n",
    "x + 1"
   ]
  },
  {
   "cell_type": "code",
   "execution_count": null,
   "metadata": {},
   "outputs": [],
   "source": [
    "x + \"1\""
   ]
  },
  {
   "cell_type": "code",
   "execution_count": null,
   "metadata": {},
   "outputs": [],
   "source": [
    "# only the last line of the code is printed.\n",
    "x = 1\n",
    "x  # not printed.\n",
    "x = x + 1\n",
    "x  # not printed.\n",
    "x = x + 1\n",
    "x  # not printed.\n",
    "x = x + 1\n",
    "x  # printed."
   ]
  },
  {
   "cell_type": "code",
   "execution_count": null,
   "metadata": {
    "colab": {
     "base_uri": "https://localhost:8080/",
     "height": 36
    },
    "executionInfo": {
     "elapsed": 4,
     "status": "ok",
     "timestamp": 1743619503676,
     "user": {
      "displayName": "Julie F. Wang",
      "userId": "05719936136264505342"
     },
     "user_tz": 420
    },
    "id": "2fr1Cs8kwRuN",
    "outputId": "da78d2c2-b504-42eb-ac47-7a88ff8f0694"
   },
   "outputs": [],
   "source": [
    "# you can use the display function to print variables as well.\n",
    "# it is not very different from print(x) with baisc data types, but it can be easier to read with e.g., dataframes.\n",
    "from IPython.display import display\n",
    "display(x)"
   ]
  },
  {
   "cell_type": "markdown",
   "metadata": {
    "id": "nkYosle9cbH1"
   },
   "source": [
    "## Basic Arithmetic\n",
    "\n",
    "Math Operators:\n",
    "`+ - * / // % **`\n",
    "\n",
    "Boolean expressions:\n",
    "* keywords: `True` and `False` (note capitalization)\n",
    "- False = 0, True = 1\n",
    "    - C1 and C2 = min (C1, C2)\n",
    "    - C1 or C2 = max(C1, C2)\n",
    "* `==` equals: `5 == 5` yields `True`\n",
    "* `!=` does not equal: `5 != 5` yields `False`\n",
    "* `>` greater than: `5 > 4` yields `True`\n",
    "* `>=` greater than or equal: `5 >= 5` yields `True`\n",
    "* Similarly, we have `<` and `<=`.\n",
    "\n",
    "Logical operators:\n",
    "* `and`, `or`, and `not`\n",
    "* `True and False`\n",
    "* `True or False`\n",
    "* `not True`"
   ]
  },
  {
   "cell_type": "code",
   "execution_count": null,
   "metadata": {
    "colab": {
     "base_uri": "https://localhost:8080/",
     "height": 158
    },
    "executionInfo": {
     "elapsed": 6,
     "status": "error",
     "timestamp": 1743619558014,
     "user": {
      "displayName": "Julie F. Wang",
      "userId": "05719936136264505342"
     },
     "user_tz": 420
    },
    "id": "nUWU03T6o82j",
    "outputId": "3cbf4204-c6b1-4037-e272-afd7e7ad2b22"
   },
   "outputs": [],
   "source": [
    "# Dividing 0 is an error\n",
    "4 / 0"
   ]
  },
  {
   "cell_type": "code",
   "execution_count": null,
   "metadata": {
    "colab": {
     "base_uri": "https://localhost:8080/"
    },
    "executionInfo": {
     "elapsed": 5,
     "status": "ok",
     "timestamp": 1743619578722,
     "user": {
      "displayName": "Julie F. Wang",
      "userId": "05719936136264505342"
     },
     "user_tz": 420
    },
    "id": "AGVUfzrccbH3",
    "outputId": "eb6e3239-5da5-4fbf-b168-ecd7ecb75438"
   },
   "outputs": [],
   "source": [
    "# The result of regular division is always a float\n",
    "type(4 / 2)"
   ]
  },
  {
   "cell_type": "code",
   "execution_count": null,
   "metadata": {
    "colab": {
     "base_uri": "https://localhost:8080/"
    },
    "executionInfo": {
     "elapsed": 5,
     "status": "ok",
     "timestamp": 1743619597436,
     "user": {
      "displayName": "Julie F. Wang",
      "userId": "05719936136264505342"
     },
     "user_tz": 420
    },
    "id": "JDJ--i0bT4gP",
    "outputId": "49466be1-75a2-44fd-84a3-18af5a07a347"
   },
   "outputs": [],
   "source": [
    "5 / 3"
   ]
  },
  {
   "cell_type": "code",
   "execution_count": null,
   "metadata": {
    "colab": {
     "base_uri": "https://localhost:8080/"
    },
    "executionInfo": {
     "elapsed": 4,
     "status": "ok",
     "timestamp": 1743619627231,
     "user": {
      "displayName": "Julie F. Wang",
      "userId": "05719936136264505342"
     },
     "user_tz": 420
    },
    "id": "S5NLeVRDcbH3",
    "outputId": "d44a72f9-1a8f-488c-8016-695592dd2821"
   },
   "outputs": [],
   "source": [
    "type(5 // 3)  # Floor division"
   ]
  },
  {
   "cell_type": "code",
   "execution_count": null,
   "metadata": {
    "colab": {
     "base_uri": "https://localhost:8080/"
    },
    "executionInfo": {
     "elapsed": 5,
     "status": "ok",
     "timestamp": 1743619610466,
     "user": {
      "displayName": "Julie F. Wang",
      "userId": "05719936136264505342"
     },
     "user_tz": 420
    },
    "id": "aWBUjy_eUEUx",
    "outputId": "eb0c7b13-dd9b-4c43-a4fc-32a96e84936e"
   },
   "outputs": [],
   "source": [
    "5 // 3 # Floor division of positive numbers"
   ]
  },
  {
   "cell_type": "markdown",
   "metadata": {
    "id": "5xICnU2d4MuM"
   },
   "source": []
  },
  {
   "cell_type": "code",
   "execution_count": null,
   "metadata": {
    "colab": {
     "base_uri": "https://localhost:8080/"
    },
    "executionInfo": {
     "elapsed": 5,
     "status": "ok",
     "timestamp": 1743619638880,
     "user": {
      "displayName": "Julie F. Wang",
      "userId": "05719936136264505342"
     },
     "user_tz": 420
    },
    "id": "ZaPM47NI3EA0",
    "outputId": "74133bc0-49da-4b86-84cc-dceb7bb47af1"
   },
   "outputs": [],
   "source": [
    "-5 / 3# Floor division of negative numbers"
   ]
  },
  {
   "cell_type": "code",
   "execution_count": null,
   "metadata": {
    "colab": {
     "base_uri": "https://localhost:8080/"
    },
    "executionInfo": {
     "elapsed": 3,
     "status": "ok",
     "timestamp": 1743619657475,
     "user": {
      "displayName": "Julie F. Wang",
      "userId": "05719936136264505342"
     },
     "user_tz": 420
    },
    "id": "KNEs342XVz_U",
    "outputId": "ba76c0b4-a67c-4eeb-d654-c1386e28519e"
   },
   "outputs": [],
   "source": [
    "-5 // 3 # rounds down towards negative infinity"
   ]
  },
  {
   "cell_type": "code",
   "execution_count": null,
   "metadata": {
    "colab": {
     "base_uri": "https://localhost:8080/"
    },
    "executionInfo": {
     "elapsed": 41,
     "status": "ok",
     "timestamp": 1743619672151,
     "user": {
      "displayName": "Julie F. Wang",
      "userId": "05719936136264505342"
     },
     "user_tz": 420
    },
    "id": "p1wPNFY53i1E",
    "outputId": "abf7cb30-d993-4102-f1a9-2c7127f80559"
   },
   "outputs": [],
   "source": [
    "5 % 3  # Modulus of positive numbers"
   ]
  },
  {
   "cell_type": "code",
   "execution_count": null,
   "metadata": {
    "colab": {
     "base_uri": "https://localhost:8080/"
    },
    "executionInfo": {
     "elapsed": 7,
     "status": "ok",
     "timestamp": 1743619683231,
     "user": {
      "displayName": "Julie F. Wang",
      "userId": "05719936136264505342"
     },
     "user_tz": 420
    },
    "id": "gQXUdO4CcbH4",
    "outputId": "ab6659c7-ab44-4b10-a22b-60a0a7c31c88"
   },
   "outputs": [],
   "source": [
    "-5 % 3  # Modulus of negative numbers"
   ]
  },
  {
   "cell_type": "code",
   "execution_count": null,
   "metadata": {
    "colab": {
     "base_uri": "https://localhost:8080/"
    },
    "executionInfo": {
     "elapsed": 4,
     "status": "ok",
     "timestamp": 1743619704959,
     "user": {
      "displayName": "Julie F. Wang",
      "userId": "05719936136264505342"
     },
     "user_tz": 420
    },
    "id": "D0XEe3XecbH4",
    "outputId": "b360235c-7fa7-4cec-8f72-4b1708bf5ff8"
   },
   "outputs": [],
   "source": [
    "4**3  # Exponentiation"
   ]
  },
  {
   "cell_type": "code",
   "execution_count": null,
   "metadata": {
    "colab": {
     "base_uri": "https://localhost:8080/"
    },
    "executionInfo": {
     "elapsed": 16,
     "status": "ok",
     "timestamp": 1743619724564,
     "user": {
      "displayName": "Julie F. Wang",
      "userId": "05719936136264505342"
     },
     "user_tz": 420
    },
    "id": "agl9SgW80Lo3",
    "outputId": "b1ccf266-ecc7-4d60-d1e5-16e66891e127"
   },
   "outputs": [],
   "source": [
    "# = to assign value to a varibale\n",
    "# == to check if the values match\n",
    "x = 5.0\n",
    "y = 5\n",
    "\n",
    "x == y"
   ]
  },
  {
   "cell_type": "code",
   "execution_count": null,
   "metadata": {
    "colab": {
     "base_uri": "https://localhost:8080/"
    },
    "executionInfo": {
     "elapsed": 11,
     "status": "ok",
     "timestamp": 1743619726745,
     "user": {
      "displayName": "Julie F. Wang",
      "userId": "05719936136264505342"
     },
     "user_tz": 420
    },
    "id": "J10_TdDUons4",
    "outputId": "0dfea71e-58fa-44b0-ac35-2faa0922df20"
   },
   "outputs": [],
   "source": [
    "print(type(x), type(y))"
   ]
  },
  {
   "cell_type": "code",
   "execution_count": null,
   "metadata": {
    "colab": {
     "base_uri": "https://localhost:8080/"
    },
    "executionInfo": {
     "elapsed": 6,
     "status": "ok",
     "timestamp": 1743619782052,
     "user": {
      "displayName": "Julie F. Wang",
      "userId": "05719936136264505342"
     },
     "user_tz": 420
    },
    "id": "Wgqp32w8z-ks",
    "outputId": "3134b981-abc9-49ec-9c9b-f5f1dbae098e"
   },
   "outputs": [],
   "source": [
    "x = 5.0\n",
    "y = 5\n",
    "z = x\n",
    "print(\"x == y: \" + str(x == y))\n",
    "print(\"x is y: \" + str(x is y))\n",
    "print(\"x is z: \" + str(x is z))\n",
    "\n",
    "\n",
    "# == checks for equality - if the two variables point at values are equal.\n",
    "# is checks for identity - if the two variables point to the exact same object."
   ]
  },
  {
   "cell_type": "code",
   "execution_count": null,
   "metadata": {
    "colab": {
     "base_uri": "https://localhost:8080/"
    },
    "executionInfo": {
     "elapsed": 5,
     "status": "ok",
     "timestamp": 1743619843031,
     "user": {
      "displayName": "Julie F. Wang",
      "userId": "05719936136264505342"
     },
     "user_tz": 420
    },
    "id": "ZS036T0x1y7E",
    "outputId": "3e09c175-0340-43e4-df0d-950f046ed96a"
   },
   "outputs": [],
   "source": [
    "x = 5\n",
    "y = 5\n",
    "x is y"
   ]
  },
  {
   "cell_type": "code",
   "execution_count": null,
   "metadata": {
    "colab": {
     "base_uri": "https://localhost:8080/"
    },
    "executionInfo": {
     "elapsed": 4,
     "status": "ok",
     "timestamp": 1743619905126,
     "user": {
      "displayName": "Julie F. Wang",
      "userId": "05719936136264505342"
     },
     "user_tz": 420
    },
    "id": "5OmbXD0a0lL5",
    "outputId": "d422a454-0618-4b5a-e8e2-dea161dc1b67"
   },
   "outputs": [],
   "source": [
    "s = [\"example\"]\n",
    "answer = [\"example\"]\n",
    "a = s\n",
    "print(\"s == 'example': \" + str(s == answer))\n",
    "print(\"s is 'example': \" + str(s is a))  # TODO: Check @pointer\n",
    "\n",
    "# Python string interning -> Since string are immutable\n",
    "# it makes sense for the interpreter to store the string literal only once and point all the variables to the same object"
   ]
  },
  {
   "cell_type": "code",
   "execution_count": null,
   "metadata": {
    "colab": {
     "base_uri": "https://localhost:8080/"
    },
    "executionInfo": {
     "elapsed": 5,
     "status": "ok",
     "timestamp": 1743619985102,
     "user": {
      "displayName": "Julie F. Wang",
      "userId": "05719936136264505342"
     },
     "user_tz": 420
    },
    "id": "bA-zIPGZcbH2",
    "outputId": "9f1437ef-6480-4861-b914-107f145ae505"
   },
   "outputs": [],
   "source": [
    "True or False  # some other language use '&' for 'and', '|' for 'or', '!' for 'not': NOT IN PYTHON"
   ]
  },
  {
   "cell_type": "code",
   "execution_count": null,
   "metadata": {
    "colab": {
     "base_uri": "https://localhost:8080/"
    },
    "executionInfo": {
     "elapsed": 4,
     "status": "ok",
     "timestamp": 1743619987332,
     "user": {
      "displayName": "Julie F. Wang",
      "userId": "05719936136264505342"
     },
     "user_tz": 420
    },
    "id": "zYhfQ3_RuZXM",
    "outputId": "f2d85795-cf1e-4d67-a0a4-23d2c6a4c423"
   },
   "outputs": [],
   "source": [
    "not True"
   ]
  },
  {
   "cell_type": "markdown",
   "metadata": {
    "vscode": {
     "languageId": "raw"
    }
   },
   "source": [
    "### Self‑study notes: Variables and Types\n",
    "- Python is dynamically typed: a name can be bound to values of different types over time.\n",
    "  - Example: `x = 1` (int), later `x = \"hello\"` (str).\n",
    "- Inspect type with `type(x)`; convert explicitly with `int()`, `float()`, `str()`.\n",
    "- Equality compares values (double `=`, `==`); identity compares objects (`x is y`).\n",
    "- Printing: `print(x)` prints immediately; in notebooks the last expression’s value is displayed.\n",
    "- f-strings for debugging: `print(f\"{x=}\")` shows the name and value.\n",
    "- Avoid mixing incompatible types in arithmetic (e.g., `1 + \"1\"` raises `TypeError`).\n"
   ]
  },
  {
   "cell_type": "code",
   "execution_count": null,
   "metadata": {
    "colab": {
     "base_uri": "https://localhost:8080/"
    },
    "executionInfo": {
     "elapsed": 6,
     "status": "ok",
     "timestamp": 1743619996766,
     "user": {
      "displayName": "Julie F. Wang",
      "userId": "05719936136264505342"
     },
     "user_tz": 420
    },
    "id": "YoeaUDn0XmJB",
    "outputId": "3aeb7e2a-93f1-489c-a44c-80d00b3db385"
   },
   "outputs": [],
   "source": [
    "not (9 == 9)"
   ]
  },
  {
   "cell_type": "code",
   "execution_count": null,
   "metadata": {
    "colab": {
     "base_uri": "https://localhost:8080/"
    },
    "executionInfo": {
     "elapsed": 42,
     "status": "ok",
     "timestamp": 1743620001198,
     "user": {
      "displayName": "Julie F. Wang",
      "userId": "05719936136264505342"
     },
     "user_tz": 420
    },
    "id": "_NiNaDTa0Gjo",
    "outputId": "b635e607-ce0f-4a2d-fda5-e54a36d61030"
   },
   "outputs": [],
   "source": [
    "not 5 == 5.0  # equivalent to 5 != 5.0"
   ]
  },
  {
   "cell_type": "code",
   "execution_count": null,
   "metadata": {
    "colab": {
     "base_uri": "https://localhost:8080/"
    },
    "executionInfo": {
     "elapsed": 5,
     "status": "ok",
     "timestamp": 1743620013219,
     "user": {
      "displayName": "Julie F. Wang",
      "userId": "05719936136264505342"
     },
     "user_tz": 420
    },
    "id": "PZIr4pTaXrS5",
    "outputId": "1c238490-cc35-499c-9a17-594b009dd229"
   },
   "outputs": [],
   "source": [
    "5 != 5.0"
   ]
  },
  {
   "cell_type": "markdown",
   "metadata": {
    "id": "5NpmPWnlcbH5"
   },
   "source": [
    "## Strings\n",
    "\n",
    "Concatenation: `str1 + str2`\n",
    "\n",
    "Printing: `print(str1)`"
   ]
  },
  {
   "cell_type": "code",
   "execution_count": null,
   "metadata": {
    "colab": {
     "base_uri": "https://localhost:8080/"
    },
    "executionInfo": {
     "elapsed": 5,
     "status": "ok",
     "timestamp": 1743620025327,
     "user": {
      "displayName": "Julie F. Wang",
      "userId": "05719936136264505342"
     },
     "user_tz": 420
    },
    "id": "kbIgEqkLmM-R",
    "outputId": "e348e0c2-e312-4bc3-f9c5-7e991f09a795"
   },
   "outputs": [],
   "source": [
    "1 + 1"
   ]
  },
  {
   "cell_type": "markdown",
   "metadata": {
    "vscode": {
     "languageId": "raw"
    }
   },
   "source": [
    "### Self‑study notes: Basic Arithmetic and Booleans\n",
    "- Operators: `+ - * / // % **`. Regular division `/` returns `float`.\n",
    "- Floor division `//` rounds down toward negative infinity; modulus `%` keeps the sign of the divisor.\n",
    "- Comparison operators return booleans: `== != < <= > >=`.\n",
    "- Logical operators: `and`, `or`, `not` (not `&&`, `||`, `!` like in C).\n",
    "- Truthiness: `0`, `''`, `[]`, `{}`, `None` are treated as `False`; most non-empty values are `True`.\n",
    "- Identity vs equality: `is` compares object identity, `==` compares values.\n"
   ]
  },
  {
   "cell_type": "code",
   "execution_count": null,
   "metadata": {
    "colab": {
     "base_uri": "https://localhost:8080/"
    },
    "executionInfo": {
     "elapsed": 9,
     "status": "ok",
     "timestamp": 1743620035227,
     "user": {
      "displayName": "Julie F. Wang",
      "userId": "05719936136264505342"
     },
     "user_tz": 420
    },
    "id": "eKSQF5MNcbH5",
    "outputId": "a85cb7cb-b7de-446e-d292-dc04eec954d2"
   },
   "outputs": [],
   "source": [
    "str1 = \"Alice's numbers are 20 and 52, \"\n",
    "str2 = \"and their sum is 72\"\n",
    "str3 = str1 + str2\n",
    "str3"
   ]
  },
  {
   "cell_type": "markdown",
   "metadata": {
    "id": "InSoz24QcbH5"
   },
   "source": [
    "String Formatting with `f`"
   ]
  },
  {
   "cell_type": "code",
   "execution_count": null,
   "metadata": {
    "colab": {
     "base_uri": "https://localhost:8080/"
    },
    "executionInfo": {
     "elapsed": 5,
     "status": "ok",
     "timestamp": 1743620085866,
     "user": {
      "displayName": "Julie F. Wang",
      "userId": "05719936136264505342"
     },
     "user_tz": 420
    },
    "id": "84Llsw9RcbH6",
    "outputId": "65210a54-8497-4b0e-e693-41177c00f79a"
   },
   "outputs": [],
   "source": [
    "# f-string (pyhton == ^3.6)\n",
    "\n",
    "x = 4000\n",
    "y = 52\n",
    "name = \"Abi's friend\"\n",
    "\n",
    "# f-string\n",
    "str1 = f\"{name}'s numbers are {x} and {y}, \"\n",
    "str2 = f\"and their sum is {x + y}\"\n",
    "str3 = str1 + str2\n",
    "str1, str2, str3"
   ]
  },
  {
   "cell_type": "code",
   "execution_count": null,
   "metadata": {
    "colab": {
     "base_uri": "https://localhost:8080/"
    },
    "executionInfo": {
     "elapsed": 9,
     "status": "ok",
     "timestamp": 1743620114959,
     "user": {
      "displayName": "Julie F. Wang",
      "userId": "05719936136264505342"
     },
     "user_tz": 420
    },
    "id": "o2R732-VcbH6",
    "outputId": "a77b42fe-fab3-4996-bc52-ccffd064d86d"
   },
   "outputs": [],
   "source": [
    "# some methods\n",
    "str1 = \"Hello, World!\"\n",
    "print(str1)\n",
    "print(str1.upper())\n",
    "print(str1.lower())"
   ]
  },
  {
   "cell_type": "markdown",
   "metadata": {
    "vscode": {
     "languageId": "raw"
    }
   },
   "source": [
    "### Self‑study notes: Strings\n",
    "- Strings are sequences of characters. Use single or double quotes: `'hi'` or \"hi\".\n",
    "- Concatenate with `+`, repeat with `*`, get length with `len(s)`.\n",
    "- f-strings (Python 3.6+): `name = \"Ada\"; f\"Hello {name}!\"` for readable interpolation.\n",
    "- Common methods: `s.upper()`, `s.lower()`, `s.replace(old, new)`, `s.split(delim)`, `s.strip()`.\n",
    "- Indexing/slicing: `s[0]`, `s[-1]`, `s[1:4]` (stop is exclusive, i.e., `s[1:4]` is `s[1]` to `s[3]`).\n",
    "- Strings are immutable: operations return new strings; original isn’t changed.\n"
   ]
  },
  {
   "cell_type": "code",
   "execution_count": null,
   "metadata": {
    "colab": {
     "base_uri": "https://localhost:8080/",
     "height": 36
    },
    "executionInfo": {
     "elapsed": 8,
     "status": "ok",
     "timestamp": 1743620141609,
     "user": {
      "displayName": "Julie F. Wang",
      "userId": "05719936136264505342"
     },
     "user_tz": 420
    },
    "id": "LODwyCHim-u7",
    "outputId": "277cbfa1-f9b8-4c1c-d6f5-13cebbb7fe67"
   },
   "outputs": [],
   "source": [
    "str1.replace(\"l\", \"p\")"
   ]
  },
  {
   "cell_type": "code",
   "execution_count": null,
   "metadata": {
    "colab": {
     "base_uri": "https://localhost:8080/"
    },
    "executionInfo": {
     "elapsed": 4,
     "status": "ok",
     "timestamp": 1743620200992,
     "user": {
      "displayName": "Julie F. Wang",
      "userId": "05719936136264505342"
     },
     "user_tz": 420
    },
    "id": "YMhohStZcbH7",
    "outputId": "2156763a-d388-4467-a96e-50daa206bf8b"
   },
   "outputs": [],
   "source": [
    "?str.replace # only in colab"
   ]
  },
  {
   "cell_type": "code",
   "execution_count": null,
   "metadata": {
    "colab": {
     "base_uri": "https://localhost:8080/"
    },
    "executionInfo": {
     "elapsed": 8,
     "status": "ok",
     "timestamp": 1743620220596,
     "user": {
      "displayName": "Julie F. Wang",
      "userId": "05719936136264505342"
     },
     "user_tz": 420
    },
    "id": "_l2D_I0cZ90w",
    "outputId": "3b6982a9-4eef-46bc-afd3-2c82a38cf513"
   },
   "outputs": [],
   "source": [
    "help(str.partition)"
   ]
  },
  {
   "cell_type": "markdown",
   "metadata": {
    "id": "BuvH2ODKcbH7"
   },
   "source": [
    "## Control Flow\n",
    "\n",
    "If statements:  \n",
    "if decides whether certain statements need to be executed or not. It checks for a given condition\n",
    "```python\n",
    "if condition1:\n",
    "  statements1\n",
    "elif condition2:\n",
    "  statements2\n",
    "elif condition3:\n",
    "  statements3\n",
    "else:\n",
    "  statements4\n",
    "```"
   ]
  },
  {
   "cell_type": "code",
   "execution_count": null,
   "metadata": {
    "colab": {
     "base_uri": "https://localhost:8080/"
    },
    "executionInfo": {
     "elapsed": 5,
     "status": "ok",
     "timestamp": 1743620262079,
     "user": {
      "displayName": "Julie F. Wang",
      "userId": "05719936136264505342"
     },
     "user_tz": 420
    },
    "id": "1eYcDMetcbH8",
    "outputId": "f6e5b600-bf5b-458d-ef23-6ad11413711e"
   },
   "outputs": [],
   "source": [
    "x = 3\n",
    "y = 10\n",
    "\n",
    "if x == y:\n",
    "    print(\"The value of x is the same as value of y\")\n",
    "elif x == 3:\n",
    "    print(\"I am here\")\n",
    "    print(\"x is 3\")\n",
    "else:\n",
    "    print(\"x is something else\")"
   ]
  },
  {
   "cell_type": "markdown",
   "metadata": {
    "id": "RwNgRLrCcbH8"
   },
   "source": [
    "**For loops**  \n",
    "\n",
    "control flow statement for specifying iteration, which allows code to be executed repeatedly"
   ]
  },
  {
   "cell_type": "code",
   "execution_count": null,
   "metadata": {
    "colab": {
     "base_uri": "https://localhost:8080/"
    },
    "executionInfo": {
     "elapsed": 5,
     "status": "ok",
     "timestamp": 1743620273294,
     "user": {
      "displayName": "Julie F. Wang",
      "userId": "05719936136264505342"
     },
     "user_tz": 420
    },
    "id": "YLdLhZR1cbH8",
    "outputId": "e5274eb0-e8ac-4b46-9d88-a482bba1407a"
   },
   "outputs": [],
   "source": [
    "for i in range(4):  # default - start at 0, increment by 1\n",
    "    print(f\"{i}, next loop\")"
   ]
  },
  {
   "cell_type": "code",
   "execution_count": null,
   "metadata": {
    "colab": {
     "base_uri": "https://localhost:8080/"
    },
    "executionInfo": {
     "elapsed": 5,
     "status": "ok",
     "timestamp": 1743620313436,
     "user": {
      "displayName": "Julie F. Wang",
      "userId": "05719936136264505342"
     },
     "user_tz": 420
    },
    "id": "SJOxICCEbNOw",
    "outputId": "66451382-ddab-4ba9-8956-123487ae6faa"
   },
   "outputs": [],
   "source": [
    "x = range(5)  # [0, 1, 2, 3, 4]\n",
    "y = range(0, 10, 2)  # [0, 2, 4, 6, 8]\n",
    "\n",
    "for xi, yi in zip(x, y):\n",
    "    # to use zip to loop over two lists, they need to have the same length.\n",
    "    # this is the same as for i in range(len(x)):\n",
    "    # xi = x[i]\n",
    "    # yi = y[i]\n",
    "    print(f\"x: {xi}, y: {yi}\")"
   ]
  },
  {
   "cell_type": "code",
   "execution_count": null,
   "metadata": {
    "id": "qLhGzbGg7o09"
   },
   "outputs": [],
   "source": [
    "?range"
   ]
  },
  {
   "cell_type": "code",
   "execution_count": null,
   "metadata": {
    "colab": {
     "base_uri": "https://localhost:8080/"
    },
    "executionInfo": {
     "elapsed": 6,
     "status": "ok",
     "timestamp": 1743620385644,
     "user": {
      "displayName": "Julie F. Wang",
      "userId": "05719936136264505342"
     },
     "user_tz": 420
    },
    "id": "MPyXYfnA9IsX",
    "outputId": "8075ea8a-b5cc-418a-a97d-87c01a8eabfa"
   },
   "outputs": [],
   "source": [
    "for i in range(10, 0, -2):  # inputs are start, stop, step\n",
    "    print(i)"
   ]
  },
  {
   "cell_type": "markdown",
   "metadata": {
    "id": "NcNxRCDtcbH8"
   },
   "source": [
    "**while loops**"
   ]
  },
  {
   "cell_type": "markdown",
   "metadata": {
    "vscode": {
     "languageId": "raw"
    }
   },
   "source": [
    "### Self‑study notes: Control Flow\n",
    "- **if/elif/else**: only one branch runs. Conditions evaluate to `True`/`False`.\n",
    "  - Use comparison ops (`== != < <= > >=`) and logical ops (`and`, `or`, `not`).\n",
    "- **for loops**: iterate over any iterable (list, range, dict, set, string).\n",
    "  - `for i in range(5): ...` or `for name in names:`.\n",
    "  - Use `enumerate(iterable)` to get `(index, value)`.\n",
    "  - Iterate two sequences together with `zip(a, b)`.\n",
    "- **while loops**: run while condition stays `True`. Ensure something changes to avoid infinite loops.\n",
    "- **continue** skips to next iteration; **break** exits the loop.\n",
    "- Indentation defines blocks in Python. Keep consistent 4 spaces; no tabs.\n"
   ]
  },
  {
   "cell_type": "code",
   "execution_count": null,
   "metadata": {
    "colab": {
     "base_uri": "https://localhost:8080/"
    },
    "executionInfo": {
     "elapsed": 6,
     "status": "ok",
     "timestamp": 1743620418488,
     "user": {
      "displayName": "Julie F. Wang",
      "userId": "05719936136264505342"
     },
     "user_tz": 420
    },
    "id": "IhOWQZpKcbH9",
    "outputId": "55044f77-21cd-471e-dadf-2daf7dc79eb5"
   },
   "outputs": [],
   "source": [
    "# Find all positive integer whose square < 100\n",
    "i = 1\n",
    "while i**2 < 100:\n",
    "    print(i)\n",
    "    i += 1  # i += 1 is the same as i = i + 1\n",
    "print(\"Finished\")"
   ]
  },
  {
   "cell_type": "markdown",
   "metadata": {
    "id": "e416dtcqcbH9"
   },
   "source": [
    "**continue** - skip the rest of the loop\n",
    "\n",
    "**break** - exit from the loop"
   ]
  },
  {
   "cell_type": "code",
   "execution_count": null,
   "metadata": {
    "colab": {
     "base_uri": "https://localhost:8080/"
    },
    "executionInfo": {
     "elapsed": 42,
     "status": "ok",
     "timestamp": 1743620451098,
     "user": {
      "displayName": "Julie F. Wang",
      "userId": "05719936136264505342"
     },
     "user_tz": 420
    },
    "id": "n0MAplWdcbH9",
    "outputId": "04e744d6-22e7-4652-d220-bc80220211da"
   },
   "outputs": [],
   "source": [
    "# distinguish even or odd number\n",
    "for num in range(1, 10):\n",
    "    if num % 2 == 0:\n",
    "        print(f\"Found {num}, an even number, Continue!\")\n",
    "          # this jumps us back to the top\n",
    "\n",
    "    print(f\"Found {num}, an odd number\")\n",
    "\n",
    "print(\"Finished\")"
   ]
  },
  {
   "cell_type": "code",
   "execution_count": null,
   "metadata": {
    "colab": {
     "base_uri": "https://localhost:8080/"
    },
    "executionInfo": {
     "elapsed": 9,
     "status": "ok",
     "timestamp": 1743620496161,
     "user": {
      "displayName": "Julie F. Wang",
      "userId": "05719936136264505342"
     },
     "user_tz": 420
    },
    "id": "_Lie5ddEcbH-",
    "outputId": "214983e4-64e0-4d2b-e88c-f92989d353e8"
   },
   "outputs": [],
   "source": [
    "for num in range(1, 10):\n",
    "  if num % 2 == 0:  # if n divisible by x\n",
    "    print(f\"Found {num}, an even number, Continue!\")\n",
    "    continue\n",
    "\n",
    "  print(f\"Found {num}, an odd number\")\n",
    "print(\"Finished\")"
   ]
  },
  {
   "cell_type": "code",
   "execution_count": null,
   "metadata": {
    "colab": {
     "base_uri": "https://localhost:8080/"
    },
    "executionInfo": {
     "elapsed": 5,
     "status": "ok",
     "timestamp": 1743620598318,
     "user": {
      "displayName": "Julie F. Wang",
      "userId": "05719936136264505342"
     },
     "user_tz": 420
    },
    "id": "nv7ncYB1cbH-",
    "outputId": "7a5afd24-d2d6-4fda-ebaf-e486701339fa"
   },
   "outputs": [],
   "source": [
    "# continue/break statement only continue/breaks its cloest parent level loop statement\n",
    "for i in range(3):\n",
    "    print(f\"Outer {i}\")\n",
    "    for j in range(3):\n",
    "        print(f\"   Inner : {j}\")\n",
    "        if j == 1:\n",
    "          break\n",
    "    # jump to here after break"
   ]
  },
  {
   "cell_type": "markdown",
   "metadata": {
    "id": "6jRgPK5NcbH-"
   },
   "source": [
    "**pass** does nothing"
   ]
  },
  {
   "cell_type": "code",
   "execution_count": null,
   "metadata": {
    "colab": {
     "base_uri": "https://localhost:8080/"
    },
    "executionInfo": {
     "elapsed": 5,
     "status": "ok",
     "timestamp": 1743620649758,
     "user": {
      "displayName": "Julie F. Wang",
      "userId": "05719936136264505342"
     },
     "user_tz": 420
    },
    "id": "3iSC4F8icbH-",
    "outputId": "6d47a696-36ed-4e82-a363-8b0656f93602"
   },
   "outputs": [],
   "source": [
    "# The pass statement is used as a placeholder for future code!!\n",
    "for num in range(7):\n",
    "    if num == 5:\n",
    "        # TODO: Add more code for the case num = 5\n",
    "        print(\"number is 5\")\n",
    "        pass\n",
    "    print(f\"Iteration: {num}\")"
   ]
  },
  {
   "cell_type": "markdown",
   "metadata": {
    "id": "CBCnRvUV7d0A"
   },
   "source": [
    "# Basic Section (End)"
   ]
  },
  {
   "cell_type": "markdown",
   "metadata": {
    "id": "AIgpCBxNcbH-"
   },
   "source": [
    "## [Exceptions](https://docs.python.org/3/library/exceptions.html)"
   ]
  },
  {
   "cell_type": "markdown",
   "metadata": {
    "vscode": {
     "languageId": "raw"
    }
   },
   "source": [
    "### Self‑study notes: Exceptions\n",
    "- Use exceptions to handle error cases without crashing the whole program.\n",
    "  - `try:` code that may fail → `except SpecificError:` handle → optional `except Exception as e:` last resort (this will capture all kinds of errors/exceptions).\n",
    "- Always catch the most specific exceptions you expect; avoid bare `except:` which hides bugs."
   ]
  },
  {
   "cell_type": "code",
   "execution_count": null,
   "metadata": {
    "colab": {
     "base_uri": "https://localhost:8080/",
     "height": 141
    },
    "executionInfo": {
     "elapsed": 5,
     "status": "error",
     "timestamp": 1743620663742,
     "user": {
      "displayName": "Julie F. Wang",
      "userId": "05719936136264505342"
     },
     "user_tz": 420
    },
    "id": "JnwzmK-fcbH_",
    "outputId": "d070a16a-75d2-4fc6-ce12-410af87d34dd",
    "scrolled": true
   },
   "outputs": [],
   "source": [
    "print(100 / 0)"
   ]
  },
  {
   "cell_type": "code",
   "execution_count": null,
   "metadata": {
    "colab": {
     "base_uri": "https://localhost:8080/"
    },
    "executionInfo": {
     "elapsed": 5,
     "status": "ok",
     "timestamp": 1743620772855,
     "user": {
      "displayName": "Julie F. Wang",
      "userId": "05719936136264505342"
     },
     "user_tz": 420
    },
    "id": "hS2HnbUicbH_",
    "outputId": "61877fb3-81bf-4267-c841-3da87ac062dd"
   },
   "outputs": [],
   "source": [
    "try:\n",
    "    # print(100 / 0)\n",
    "    # julie\n",
    "    1.0 + \"1.0\"\n",
    "except ZeroDivisionError:\n",
    "    print(\"Error: don't divided by zero\")\n",
    "except NameError:\n",
    "    print(\"Error: the variable is not defined\")\n",
    "except Exception as e_msg:\n",
    "    print(\"We have an exception.\")\n",
    "    print(f\"Error is: {e_msg}\")\n",
    "\n"
   ]
  },
  {
   "cell_type": "code",
   "execution_count": null,
   "metadata": {
    "colab": {
     "base_uri": "https://localhost:8080/",
     "height": 141
    },
    "executionInfo": {
     "elapsed": 15,
     "status": "error",
     "timestamp": 1743620795143,
     "user": {
      "displayName": "Julie F. Wang",
      "userId": "05719936136264505342"
     },
     "user_tz": 420
    },
    "id": "0hZ6nDVq5dBh",
    "outputId": "7b272e54-f2c9-4e03-bf30-512ef4aadc4c"
   },
   "outputs": [],
   "source": [
    "1.0 + \"1.0\""
   ]
  },
  {
   "cell_type": "markdown",
   "metadata": {
    "id": "t9SuUewucbH_"
   },
   "source": [
    "## Functions\n",
    "\n",
    "Functions are declared with the keyword `def`"
   ]
  },
  {
   "cell_type": "markdown",
   "metadata": {
    "vscode": {
     "languageId": "raw"
    }
   },
   "source": [
    "### Self‑study notes: Functions\n",
    "- Define with `def name(params): ... return value`. If no `return`, the function returns `None`.\n",
    "- Prefer clear names and docstrings; annotate types to help readers and tools.\n",
    "  - Example:\n",
    "    - `def area(base: float, height: float) -> float: return 0.5 * base * height`\n",
    "- Arguments:\n",
    "  - Positional: `f(1, 2)`; keyword: `f(x=1, y=2)`; mix: positional first, then keywords.\n",
    "  - Default values: `def f(x, step=1): ...`; avoid mutable defaults like `[]` or `{}`.\n",
    "- Errors: raise with `raise ValueError(\"message\")`; catch with `try/except` only when you can handle it.\n",
    "- Functions are first-class: pass them around (`twice(f, x)`), return them, store in data structures.\n"
   ]
  },
  {
   "cell_type": "code",
   "execution_count": 1,
   "metadata": {
    "colab": {
     "base_uri": "https://localhost:8080/"
    },
    "executionInfo": {
     "elapsed": 8,
     "status": "ok",
     "timestamp": 1743620848776,
     "user": {
      "displayName": "Julie F. Wang",
      "userId": "05719936136264505342"
     },
     "user_tz": 420
    },
    "id": "Z_e2gamgcbH_",
    "outputId": "33650604-82ca-407c-d455-e2ffb5636629"
   },
   "outputs": [
    {
     "data": {
      "text/plain": [
       "1.0"
      ]
     },
     "execution_count": 1,
     "metadata": {},
     "output_type": "execute_result"
    }
   ],
   "source": [
    "# def tells python you're trying to declare a function\n",
    "def triangle_area(base, height):\n",
    "    # here are operations\n",
    "    # part of function\n",
    "    # etc\n",
    "\n",
    "    return 0.5 * base * height\n",
    "\n",
    "\n",
    "triangle_area(1, 2)"
   ]
  },
  {
   "cell_type": "code",
   "execution_count": null,
   "metadata": {
    "colab": {
     "base_uri": "https://localhost:8080/",
     "height": 297
    },
    "executionInfo": {
     "elapsed": 6,
     "status": "error",
     "timestamp": 1743620892961,
     "user": {
      "displayName": "Julie F. Wang",
      "userId": "05719936136264505342"
     },
     "user_tz": 420
    },
    "id": "PGZOHcqwcbH_",
    "outputId": "fe17b655-f63f-4ffc-fe30-d74f5a46be5c"
   },
   "outputs": [],
   "source": [
    "def triangle_area(base, height):\n",
    "    if base < 0 or height < 0:\n",
    "        raise ValueError(\"Base and height must be non-negative\")\n",
    "    return 0.5 * base * height\n",
    "\n",
    "\n",
    "triangle_area(-1, 2)"
   ]
  },
  {
   "cell_type": "code",
   "execution_count": null,
   "metadata": {
    "colab": {
     "base_uri": "https://localhost:8080/"
    },
    "executionInfo": {
     "elapsed": 5,
     "status": "ok",
     "timestamp": 1743620922508,
     "user": {
      "displayName": "Julie F. Wang",
      "userId": "05719936136264505342"
     },
     "user_tz": 420
    },
    "id": "8kU0rC_cwR__",
    "outputId": "927b8fbc-295d-4766-a9aa-fba35888ac14"
   },
   "outputs": [],
   "source": [
    "def triangle_area(base, height):\n",
    "    try:\n",
    "        if base < 0 or height < 0:\n",
    "            raise ValueError(\"Base and height must be non-negative\")\n",
    "        return 0.5 * base * height\n",
    "    except ValueError as e_message:\n",
    "        print(f\"Error, triangle_area {e_message}, Try a different non-negative value\")\n",
    "    except Exception as e:\n",
    "        print(f\"Error, triangle_area new error {e}\")\n",
    "\n",
    "\n",
    "triangle_area(1, 2)"
   ]
  },
  {
   "cell_type": "code",
   "execution_count": null,
   "metadata": {
    "colab": {
     "base_uri": "https://localhost:8080/"
    },
    "executionInfo": {
     "elapsed": 5,
     "status": "ok",
     "timestamp": 1743620925649,
     "user": {
      "displayName": "Julie F. Wang",
      "userId": "05719936136264505342"
     },
     "user_tz": 420
    },
    "id": "XzExk7sk66_V",
    "outputId": "145f871c-5d2e-4f7f-8879-d035deb4bdc3"
   },
   "outputs": [],
   "source": [
    "triangle_area(-1, 2)"
   ]
  },
  {
   "cell_type": "code",
   "execution_count": null,
   "metadata": {
    "colab": {
     "base_uri": "https://localhost:8080/"
    },
    "executionInfo": {
     "elapsed": 5,
     "status": "ok",
     "timestamp": 1743620926459,
     "user": {
      "displayName": "Julie F. Wang",
      "userId": "05719936136264505342"
     },
     "user_tz": 420
    },
    "id": "9mxBcN5jWEwz",
    "outputId": "c03e3c36-04a3-479d-c741-f59b97d03379"
   },
   "outputs": [],
   "source": [
    "triangle_area(\"string\", 2)"
   ]
  },
  {
   "cell_type": "code",
   "execution_count": null,
   "metadata": {
    "colab": {
     "base_uri": "https://localhost:8080/"
    },
    "executionInfo": {
     "elapsed": 5,
     "status": "ok",
     "timestamp": 1743620976295,
     "user": {
      "displayName": "Julie F. Wang",
      "userId": "05719936136264505342"
     },
     "user_tz": 420
    },
    "id": "FMH1PoNFId5c",
    "outputId": "c8d7f173-6f5e-424d-e37d-4d238d230c0e"
   },
   "outputs": [],
   "source": [
    "# add type hint @mypy\n",
    "# int, str, dict\n",
    "def triangle_area(base: int, height: int):\n",
    "    try:\n",
    "        if base < 0 or height < 0:\n",
    "            raise ValueError(\"Base and height must be non-negative\")\n",
    "        return 0.5 * base * height\n",
    "    except ValueError as error:\n",
    "        print(f\"Error, {error}, Try a different value\")\n",
    "    except Exception as e:\n",
    "        print(f\"Error, {e}\")\n",
    "\n",
    "\n",
    "triangle_area(1, 2)"
   ]
  },
  {
   "cell_type": "code",
   "execution_count": null,
   "metadata": {
    "colab": {
     "base_uri": "https://localhost:8080/"
    },
    "executionInfo": {
     "elapsed": 5,
     "status": "ok",
     "timestamp": 1743620978415,
     "user": {
      "displayName": "Julie F. Wang",
      "userId": "05719936136264505342"
     },
     "user_tz": 420
    },
    "id": "pppYZoje97M_",
    "outputId": "92a45b06-1239-4b05-cedf-230524834338"
   },
   "outputs": [],
   "source": [
    "triangle_area(1.0, 2) # implicit conversion"
   ]
  },
  {
   "cell_type": "code",
   "execution_count": null,
   "metadata": {
    "colab": {
     "base_uri": "https://localhost:8080/"
    },
    "executionInfo": {
     "elapsed": 6,
     "status": "ok",
     "timestamp": 1743621003115,
     "user": {
      "displayName": "Julie F. Wang",
      "userId": "05719936136264505342"
     },
     "user_tz": 420
    },
    "id": "SYQw2xUz6OsT",
    "outputId": "b99c3c56-8bf6-4061-ce02-64b63785c2d8"
   },
   "outputs": [],
   "source": [
    "triangle_area(\"1.0\", 2)"
   ]
  },
  {
   "cell_type": "code",
   "execution_count": null,
   "metadata": {
    "id": "Pj5amrWV7GrF"
   },
   "outputs": [],
   "source": [
    "?triangle_area"
   ]
  },
  {
   "cell_type": "code",
   "execution_count": null,
   "metadata": {
    "colab": {
     "base_uri": "https://localhost:8080/"
    },
    "executionInfo": {
     "elapsed": 40,
     "status": "ok",
     "timestamp": 1743621053881,
     "user": {
      "displayName": "Julie F. Wang",
      "userId": "05719936136264505342"
     },
     "user_tz": 420
    },
    "id": "dl3PTPsN-uRL",
    "outputId": "0b1533d9-1c2c-4532-af59-55827b1cb2d5"
   },
   "outputs": [],
   "source": [
    "# Python 3.12\n",
    "from typing import Union\n",
    "\n",
    "# try-except block\n",
    "def triangle_area(base: Union[int, float], height: Union[int, float]) -> float:\n",
    "    try:\n",
    "        if base < 0 or height < 0:\n",
    "            raise ValueError(\"Base and height must be non-negative\")\n",
    "        return 0.5 * base * height\n",
    "    except ValueError as error:\n",
    "        print(f\"Error, {error}, Try a different value\")\n",
    "    except Exception as e:\n",
    "        print(f\"Error, {e}\")\n",
    "\n",
    "\n",
    "triangle_area(1, 2)"
   ]
  },
  {
   "cell_type": "code",
   "execution_count": null,
   "metadata": {
    "id": "VUHEQgVwQw3g"
   },
   "outputs": [],
   "source": [
    "?triangle_area"
   ]
  },
  {
   "cell_type": "code",
   "execution_count": null,
   "metadata": {
    "colab": {
     "base_uri": "https://localhost:8080/"
    },
    "executionInfo": {
     "elapsed": 5,
     "status": "ok",
     "timestamp": 1743621116926,
     "user": {
      "displayName": "Julie F. Wang",
      "userId": "05719936136264505342"
     },
     "user_tz": 420
    },
    "id": "5OYbDlfbI4xE",
    "outputId": "6d754fce-de46-4dd3-e50a-3863276b7f69"
   },
   "outputs": [],
   "source": [
    "# Docstring\n",
    "def triangle_area(base: Union[int, float], height: Union[int, float]) -> float:\n",
    "    \"\"\"Triangle_area is a function that calculate the area of an triangle shape\n",
    "\n",
    "    Input:\n",
    "      base: Union[int, float]\n",
    "        non-negative numeric input\n",
    "      height: Union[int, float]\n",
    "        non-negative numeric input\n",
    "    Output:\n",
    "      area: float\n",
    "         1/2 * base * height\n",
    "    \"\"\"\n",
    "    try:\n",
    "        if base < 0 or height < 0:\n",
    "            raise ValueError(\"Base and height must be non-negative\")\n",
    "        return 0.5 * base * height\n",
    "    except ValueError as e:\n",
    "        print(f\"Error, {e}, Try a different value\")\n",
    "    except Exception as e:\n",
    "        print(f\"Error, {e}\")\n",
    "\n",
    "\n",
    "triangle_area(\"string\", 2)"
   ]
  },
  {
   "cell_type": "code",
   "execution_count": null,
   "metadata": {
    "id": "S8C3BFcKQfl4"
   },
   "outputs": [],
   "source": [
    "?triangle_area"
   ]
  },
  {
   "cell_type": "code",
   "execution_count": null,
   "metadata": {
    "colab": {
     "base_uri": "https://localhost:8080/"
    },
    "executionInfo": {
     "elapsed": 12,
     "status": "ok",
     "timestamp": 1743621150277,
     "user": {
      "displayName": "Julie F. Wang",
      "userId": "05719936136264505342"
     },
     "user_tz": 420
    },
    "id": "RYaFBz2B6zho",
    "outputId": "826addfd-3cfa-44af-fc93-dac5eb68c92d"
   },
   "outputs": [],
   "source": [
    "help(triangle_area)"
   ]
  },
  {
   "cell_type": "markdown",
   "metadata": {
    "vscode": {
     "languageId": "raw"
    }
   },
   "source": [
    "#### Why not use mutable defaults?\n",
    "- Default parameter values are evaluated once at function definition time, not on every call.\n",
    "- If you use a mutable default (like `[]` or `{}`), all calls share the same object. Mutations persist across calls and across callers.\n",
    "\n",
    "Example of surprising behavior:"
   ]
  },
  {
   "cell_type": "code",
   "execution_count": 3,
   "metadata": {},
   "outputs": [
    {
     "name": "stdout",
     "output_type": "stream",
     "text": [
      "['a']\n",
      "['a', 'b']\n"
     ]
    }
   ],
   "source": [
    "def add_tag(item, tags=[]):\n",
    "    tags.append(item)\n",
    "    return tags\n",
    "\n",
    "print(add_tag(\"a\"))  # ['a']\n",
    "print(add_tag(\"b\"))  # ['a', 'b']  <-- unexpected accumulation"
   ]
  },
  {
   "cell_type": "markdown",
   "metadata": {},
   "source": [
    "Safe pattern (use `None` sentinel and create a new object inside):"
   ]
  },
  {
   "cell_type": "code",
   "execution_count": 6,
   "metadata": {},
   "outputs": [],
   "source": [
    "def add_tag_fixed(item, tags=None):\n",
    "    if tags is None:\n",
    "        tags = []\n",
    "    tags.append(item)\n",
    "    return tags"
   ]
  },
  {
   "cell_type": "markdown",
   "metadata": {},
   "source": [
    "\n",
    "This avoids state leaking between calls and subtle bugs in larger programs.\n"
   ]
  },
  {
   "cell_type": "code",
   "execution_count": 7,
   "metadata": {},
   "outputs": [
    {
     "name": "stdout",
     "output_type": "stream",
     "text": [
      "['a']\n",
      "['b']\n"
     ]
    }
   ],
   "source": [
    "print(add_tag_fixed(\"a\"))  # ['a']\n",
    "print(add_tag_fixed(\"b\"))  # ['b']"
   ]
  },
  {
   "cell_type": "markdown",
   "metadata": {
    "id": "OJAerURiINzY"
   },
   "source": [
    "(Add-on: )\n",
    "1. Function can have multiple outputs\n",
    "2. Function input can also be a function\n",
    "3. Function input can have default values"
   ]
  },
  {
   "cell_type": "code",
   "execution_count": null,
   "metadata": {
    "colab": {
     "base_uri": "https://localhost:8080/"
    },
    "executionInfo": {
     "elapsed": 6,
     "status": "ok",
     "timestamp": 1743621169109,
     "user": {
      "displayName": "Julie F. Wang",
      "userId": "05719936136264505342"
     },
     "user_tz": 420
    },
    "id": "XeY2DXh-cbIA",
    "outputId": "2f50c6f8-bacc-4960-8261-49df06879e82"
   },
   "outputs": [],
   "source": [
    "# return multiple outputs\n",
    "def simple(a, b):\n",
    "    return a, b\n",
    "\n",
    "\n",
    "simple(1, 2)"
   ]
  },
  {
   "cell_type": "code",
   "execution_count": null,
   "metadata": {
    "colab": {
     "base_uri": "https://localhost:8080/"
    },
    "executionInfo": {
     "elapsed": 14,
     "status": "ok",
     "timestamp": 1743621220764,
     "user": {
      "displayName": "Julie F. Wang",
      "userId": "05719936136264505342"
     },
     "user_tz": 420
    },
    "id": "qGdukeJfHBSp",
    "outputId": "dfe6be36-f5c5-49e3-9750-61f5da86b643"
   },
   "outputs": [],
   "source": [
    "x, y = simple(1, 2)\n",
    "print(x)\n",
    "print(y)"
   ]
  },
  {
   "cell_type": "code",
   "execution_count": null,
   "metadata": {
    "colab": {
     "base_uri": "https://localhost:8080/"
    },
    "executionInfo": {
     "elapsed": 6,
     "status": "ok",
     "timestamp": 1743621284013,
     "user": {
      "displayName": "Julie F. Wang",
      "userId": "05719936136264505342"
     },
     "user_tz": 420
    },
    "id": "PJTo39V0cbIA",
    "outputId": "b7e38bec-09cd-4f17-f1a6-a5d997396f65"
   },
   "outputs": [],
   "source": [
    "# everything in python is an object, and can be passed into a function\n",
    "def f(x):\n",
    "    return x + 2\n",
    "\n",
    "\n",
    "def twice(g, x):\n",
    "    return g(g(x))\n",
    "\n",
    "\n",
    "twice(f, 3)  # f(f(2)) = (3 + 2) + 2"
   ]
  },
  {
   "cell_type": "code",
   "execution_count": null,
   "metadata": {
    "colab": {
     "base_uri": "https://localhost:8080/"
    },
    "executionInfo": {
     "elapsed": 7,
     "status": "ok",
     "timestamp": 1743621326260,
     "user": {
      "displayName": "Julie F. Wang",
      "userId": "05719936136264505342"
     },
     "user_tz": 420
    },
    "id": "JPLXUkxccbIA",
    "outputId": "f0fa9d69-7e76-4f2e-f6ad-a59ddf6befb1"
   },
   "outputs": [],
   "source": [
    "def n_apply(f, x, n):\n",
    "    \"\"\"applies f to x n times\"\"\"\n",
    "    for _ in range(n):  # _ is dummy variable in iteration\n",
    "        x = f(x)\n",
    "    return x\n",
    "\n",
    "\n",
    "n_apply(f, 1, 5)  # 1 + 2*5"
   ]
  },
  {
   "cell_type": "code",
   "execution_count": null,
   "metadata": {
    "id": "kY80quZccbIA"
   },
   "outputs": [],
   "source": [
    "# Function input can have default values\n",
    "def h(a, b, x=3, y=2):\n",
    "    return a * x + b * y"
   ]
  },
  {
   "cell_type": "code",
   "execution_count": null,
   "metadata": {
    "colab": {
     "base_uri": "https://localhost:8080/"
    },
    "executionInfo": {
     "elapsed": 7,
     "status": "ok",
     "timestamp": 1743621370146,
     "user": {
      "displayName": "Julie F. Wang",
      "userId": "05719936136264505342"
     },
     "user_tz": 420
    },
    "id": "vceJ2X7p_M4X",
    "outputId": "bf0c9f58-aaac-44f1-f964-cf4b6c598a61"
   },
   "outputs": [],
   "source": [
    "h(1, 1) # equivalent to h(1,1,3,2)"
   ]
  },
  {
   "cell_type": "code",
   "execution_count": null,
   "metadata": {
    "colab": {
     "base_uri": "https://localhost:8080/"
    },
    "executionInfo": {
     "elapsed": 15,
     "status": "ok",
     "timestamp": 1743621407763,
     "user": {
      "displayName": "Julie F. Wang",
      "userId": "05719936136264505342"
     },
     "user_tz": 420
    },
    "id": "2Ezqb_pU_RSM",
    "outputId": "301e9226-de84-44a1-af3a-56ca0bcfc469"
   },
   "outputs": [],
   "source": [
    "h(1,1,3) # equivalent to h(1,1,3,2)"
   ]
  },
  {
   "cell_type": "code",
   "execution_count": null,
   "metadata": {
    "colab": {
     "base_uri": "https://localhost:8080/"
    },
    "executionInfo": {
     "elapsed": 14,
     "status": "ok",
     "timestamp": 1743621417631,
     "user": {
      "displayName": "Julie F. Wang",
      "userId": "05719936136264505342"
     },
     "user_tz": 420
    },
    "id": "LtWd0s1PcbIB",
    "outputId": "c23641ac-0208-4e7c-8c56-1296a3d5dfbb"
   },
   "outputs": [],
   "source": [
    "h(1, 1, 3, 3)  # choose not to use the default value"
   ]
  },
  {
   "cell_type": "code",
   "execution_count": null,
   "metadata": {
    "colab": {
     "base_uri": "https://localhost:8080/"
    },
    "executionInfo": {
     "elapsed": 6,
     "status": "ok",
     "timestamp": 1743621469601,
     "user": {
      "displayName": "Julie F. Wang",
      "userId": "05719936136264505342"
     },
     "user_tz": 420
    },
    "id": "M1EvfpRa_fNl",
    "outputId": "3a824401-10c9-404f-a08d-42e571565e19"
   },
   "outputs": [],
   "source": [
    "h(1, 1, y =3) # use default value x but customize y"
   ]
  },
  {
   "cell_type": "code",
   "execution_count": null,
   "metadata": {
    "colab": {
     "base_uri": "https://localhost:8080/",
     "height": 106
    },
    "executionInfo": {
     "elapsed": 5,
     "status": "error",
     "timestamp": 1743621547045,
     "user": {
      "displayName": "Julie F. Wang",
      "userId": "05719936136264505342"
     },
     "user_tz": 420
    },
    "id": "tdV-Kmkk_nzJ",
    "outputId": "5e1da2e7-8161-4c65-ae29-383c03afcb2a"
   },
   "outputs": [],
   "source": [
    "h(1, 1, x=3, 3) # Always use a positional argument (3) before a keyword argument (x=3)"
   ]
  },
  {
   "cell_type": "markdown",
   "metadata": {
    "id": "QDqLQrCRcbIC"
   },
   "source": [
    "# Exercise 1\n",
    "\n",
    "(10 minutes)\n",
    "\n",
    "1. Print every power of 2 less than 10,000\n",
    "2. Write a function that takes two inputs, $a$ and $b$ and returns the value of $a+2b$\n",
    "3. Write a function takes a number $n$ as input, and prints all [Fibonacci numbers](https://en.wikipedia.org/wiki/Fibonacci_number) less than $n$"
   ]
  },
  {
   "cell_type": "code",
   "execution_count": null,
   "metadata": {
    "id": "eRDZk_LRcbIC"
   },
   "outputs": [],
   "source": [
    "# YOUR CODE HERE\n"
   ]
  },
  {
   "cell_type": "markdown",
   "metadata": {
    "id": "I2b0BxBScbIC"
   },
   "source": [
    "# Lists\n",
    "\n",
    "A list in Python is an ordered (or indexed) collection of objects"
   ]
  },
  {
   "cell_type": "markdown",
   "metadata": {
    "vscode": {
     "languageId": "raw"
    }
   },
   "source": [
    "### Self‑study notes: Lists\n",
    "- Lists are ordered and mutable: you can assign `a[0] = ...` and grow/shrink with `append`, `extend`, `insert`, `pop`, `remove`.\n",
    "- Common patterns:\n",
    "  - Build: `a = []`; `for i in range(10): a.append(i)`.\n",
    "  - Combine: `a + b` creates a new list; `a.extend(b)` mutates `a`.\n",
    "  - Insert at index: `a.insert(1, \"new\")`; remove by value with `a.remove(\"x\")` or by index with `a.pop()`.\n",
    "- Copying pitfalls:\n",
    "  - `b = a` points `b` to the same list (changes via either name affect the same object).\n",
    "  - Make a shallow copy with `a.copy()` or `a[:]`.\n",
    "- Iteration: `for item in a:`; use `enumerate(a)` to get indices and values.\n",
    "- Slicing: `a[start:stop:step]` (stop is exclusive).\n"
   ]
  },
  {
   "cell_type": "code",
   "execution_count": null,
   "metadata": {
    "colab": {
     "base_uri": "https://localhost:8080/",
     "height": 53
    },
    "executionInfo": {
     "elapsed": 12,
     "status": "ok",
     "timestamp": 1744223535303,
     "user": {
      "displayName": "Julie F. Wang",
      "userId": "05719936136264505342"
     },
     "user_tz": 420
    },
    "id": "rKH7rKi4cbID",
    "outputId": "a5533688-4aa8-4e9c-d2ed-60aa6c0c3f60"
   },
   "outputs": [],
   "source": [
    "# heterogeneous types\n",
    "a = [\"x\", 1, 3.5]\n",
    "print(a)\n",
    "a[0]"
   ]
  },
  {
   "cell_type": "markdown",
   "metadata": {
    "id": "4e3B3K73cbID"
   },
   "source": [
    "You can iterate over lists in a very natural way"
   ]
  },
  {
   "cell_type": "code",
   "execution_count": null,
   "metadata": {
    "colab": {
     "base_uri": "https://localhost:8080/"
    },
    "executionInfo": {
     "elapsed": 14,
     "status": "ok",
     "timestamp": 1744223539229,
     "user": {
      "displayName": "Julie F. Wang",
      "userId": "05719936136264505342"
     },
     "user_tz": 420
    },
    "id": "_iDpGx8XcbID",
    "outputId": "1a3ddab3-2d42-4b5a-c3f8-0ace26ad9d4d"
   },
   "outputs": [],
   "source": [
    "for word in a:\n",
    "    print(word)"
   ]
  },
  {
   "cell_type": "markdown",
   "metadata": {
    "id": "Q-4BiQMlcbID"
   },
   "source": [
    "Python indexing starts at 0."
   ]
  },
  {
   "cell_type": "code",
   "execution_count": null,
   "metadata": {
    "colab": {
     "base_uri": "https://localhost:8080/"
    },
    "executionInfo": {
     "elapsed": 12,
     "status": "ok",
     "timestamp": 1744223568514,
     "user": {
      "displayName": "Julie F. Wang",
      "userId": "05719936136264505342"
     },
     "user_tz": 420
    },
    "id": "nzyLV3cfcbID",
    "outputId": "987c6235-70ac-48df-8fe9-e568b41317dd"
   },
   "outputs": [],
   "source": [
    "# mutable\n",
    "a[1] = \"overwritten\"\n",
    "a"
   ]
  },
  {
   "cell_type": "code",
   "execution_count": null,
   "metadata": {
    "colab": {
     "base_uri": "https://localhost:8080/"
    },
    "executionInfo": {
     "elapsed": 5,
     "status": "ok",
     "timestamp": 1744223598145,
     "user": {
      "displayName": "Julie F. Wang",
      "userId": "05719936136264505342"
     },
     "user_tz": 420
    },
    "id": "UzEMwS-HcbID",
    "outputId": "78215340-0084-4156-a082-8fd1a07db64d"
   },
   "outputs": [],
   "source": [
    "# can even put functions and other lists inside of lists!\n",
    "def f(x):\n",
    "    return x + 1\n",
    "\n",
    "\n",
    "b = [f(4), [1, 2, 2.1]]\n",
    "print(b)"
   ]
  },
  {
   "cell_type": "markdown",
   "metadata": {
    "id": "hIHhKPrwcbIE"
   },
   "source": [
    "You can `append` method to `lists` class using `.append()` after a object, and do other operations, such as `pop()`, `insert()`, etc."
   ]
  },
  {
   "cell_type": "markdown",
   "metadata": {
    "id": "TvKPLJkdcbIF"
   },
   "source": [
    "Python terminology:\n",
    "* a list is a \"class\"\n",
    "* the variable `a` is an object, or instance of the class\n",
    "* `append()` is a method"
   ]
  },
  {
   "cell_type": "code",
   "execution_count": null,
   "metadata": {
    "colab": {
     "base_uri": "https://localhost:8080/"
    },
    "executionInfo": {
     "elapsed": 41,
     "status": "ok",
     "timestamp": 1744223645879,
     "user": {
      "displayName": "Julie F. Wang",
      "userId": "05719936136264505342"
     },
     "user_tz": 420
    },
    "id": "l0u0qhZYaz4d",
    "outputId": "edef5f15-b27d-4b80-f3bc-d188d45d6ee8"
   },
   "outputs": [],
   "source": [
    "dir(a) # lists all the attributes and methods associated with the object a"
   ]
  },
  {
   "cell_type": "code",
   "execution_count": null,
   "metadata": {
    "id": "tMnL2rK5p979"
   },
   "outputs": [],
   "source": [
    "?a.append"
   ]
  },
  {
   "cell_type": "code",
   "execution_count": null,
   "metadata": {
    "colab": {
     "base_uri": "https://localhost:8080/"
    },
    "executionInfo": {
     "elapsed": 6,
     "status": "ok",
     "timestamp": 1744223700901,
     "user": {
      "displayName": "Julie F. Wang",
      "userId": "05719936136264505342"
     },
     "user_tz": 420
    },
    "id": "YpybvVQLcbIE",
    "outputId": "55498863-5b5b-414d-a2d4-3ba05c57fbee"
   },
   "outputs": [],
   "source": [
    "a = [] # a = list()\n",
    "for i in range(10):\n",
    "    a.append(i)\n",
    "    print(a)\n"
   ]
  },
  {
   "cell_type": "code",
   "execution_count": null,
   "metadata": {
    "colab": {
     "base_uri": "https://localhost:8080/"
    },
    "executionInfo": {
     "elapsed": 5,
     "status": "ok",
     "timestamp": 1744223720050,
     "user": {
      "displayName": "Julie F. Wang",
      "userId": "05719936136264505342"
     },
     "user_tz": 420
    },
    "id": "ZvbESvwscbIE",
    "outputId": "affc1e1f-7909-412f-a0cc-0126d8a82b4f"
   },
   "outputs": [],
   "source": [
    "while len(a) > 0:\n",
    "    elt = a.pop()\n",
    "    print(f\"Removed {elt}, a is now {a}\")"
   ]
  },
  {
   "cell_type": "markdown",
   "metadata": {
    "id": "iQZY_rBhTZxC"
   },
   "source": [
    " (Add-on):\n",
    "1. How to insert an element at a specific index of list\n",
    "2. How to append all element in a list into another list"
   ]
  },
  {
   "cell_type": "code",
   "execution_count": null,
   "metadata": {
    "colab": {
     "base_uri": "https://localhost:8080/"
    },
    "executionInfo": {
     "elapsed": 5,
     "status": "ok",
     "timestamp": 1744223743221,
     "user": {
      "displayName": "Julie F. Wang",
      "userId": "05719936136264505342"
     },
     "user_tz": 420
    },
    "id": "VHJ7S5EAcbIE",
    "outputId": "98cb8754-0eef-47b4-d199-d3ccf6f0c6ee"
   },
   "outputs": [],
   "source": [
    "# Insert a value at a specific index\n",
    "a = [1, 2, 3]\n",
    "a.insert(1, \"new value\")\n",
    "print(a)"
   ]
  },
  {
   "cell_type": "code",
   "execution_count": null,
   "metadata": {
    "colab": {
     "base_uri": "https://localhost:8080/"
    },
    "executionInfo": {
     "elapsed": 14,
     "status": "ok",
     "timestamp": 1744223748402,
     "user": {
      "displayName": "Julie F. Wang",
      "userId": "05719936136264505342"
     },
     "user_tz": 420
    },
    "id": "6GbyCTAnxBYX",
    "outputId": "e75bf0d9-9d4a-4a2f-f6ac-aab1ca820ee4"
   },
   "outputs": [],
   "source": [
    "a = [1, 2, 3]\n",
    "b = [\"x\", \"y\"]\n",
    "a.append(b)\n",
    "a"
   ]
  },
  {
   "cell_type": "code",
   "execution_count": null,
   "metadata": {
    "colab": {
     "base_uri": "https://localhost:8080/"
    },
    "executionInfo": {
     "elapsed": 5,
     "status": "ok",
     "timestamp": 1744223750372,
     "user": {
      "displayName": "Julie F. Wang",
      "userId": "05719936136264505342"
     },
     "user_tz": 420
    },
    "id": "ijH42byecbIE",
    "outputId": "ad119b66-ef2d-421c-8e2f-8b39552f5432"
   },
   "outputs": [],
   "source": [
    "# Append all element inside a list into another list\n",
    "a = [1, 2, 3]\n",
    "b = [\"x\", \"y\"]\n",
    "a.extend(b)  # same as a+b\n",
    "print(a)"
   ]
  },
  {
   "cell_type": "code",
   "execution_count": null,
   "metadata": {
    "colab": {
     "base_uri": "https://localhost:8080/"
    },
    "executionInfo": {
     "elapsed": 11,
     "status": "ok",
     "timestamp": 1744223752098,
     "user": {
      "displayName": "Julie F. Wang",
      "userId": "05719936136264505342"
     },
     "user_tz": 420
    },
    "id": "smAIZHNycbIE",
    "outputId": "d86cc4ec-b07b-4ccc-ed3b-88258aef9f56"
   },
   "outputs": [],
   "source": [
    "a = [1, 2, 3]\n",
    "b = [\"x\", \"y\"]\n",
    "a + b\n",
    "# looks like string concatenation? We are going to talk more in 2nd lecture (OOP)."
   ]
  },
  {
   "cell_type": "markdown",
   "metadata": {
    "id": "la9LiI30cbIF"
   },
   "source": [
    "Lists in python are only implicitly collections of the objects that constitute them. Assigning statements do not copy objects and can lead to unexpected results:"
   ]
  },
  {
   "cell_type": "code",
   "execution_count": null,
   "metadata": {
    "colab": {
     "base_uri": "https://localhost:8080/"
    },
    "executionInfo": {
     "elapsed": 13,
     "status": "ok",
     "timestamp": 1744223773199,
     "user": {
      "displayName": "Julie F. Wang",
      "userId": "05719936136264505342"
     },
     "user_tz": 420
    },
    "id": "1OZGc_vWcbIF",
    "outputId": "218a19db-f75d-46d1-9ad9-3ed945ef704f"
   },
   "outputs": [],
   "source": [
    "a = [1, 2, 3]\n",
    "b = a # shallow copy.\n",
    "# b = a.copy()  # deep copy\n",
    "print(f\"{id(a)==id(b)=}\")\n",
    "print(\"before edit:\")\n",
    "print(f\"original a:, {a}\")\n",
    "print(f\"original b:, {b}\\n\")\n",
    "b[0] = \"edited\"\n",
    "print(\"after edit:\")\n",
    "print(f\"a:, {a}\")\n",
    "print(f\"b:, {b}\")"
   ]
  },
  {
   "cell_type": "markdown",
   "metadata": {
    "id": "hBNPBcGJcbIF"
   },
   "source": [
    "A list only stores some pointers to locations in your computer's memory: when we wrote `b = a` Python created a new list `b` which shares its entries with `a`.\n",
    "\n",
    "The function `.copy()` will create a completely distinct copy with new objects.\n",
    "\n",
    "Question: Find out difference of shallow copy and deep copy on your own!"
   ]
  },
  {
   "cell_type": "markdown",
   "metadata": {
    "id": "s0oOi7ItcbIF"
   },
   "source": [
    "## List Comprehensions\n",
    "\n",
    "Python's list comprehensions let you create lists in a way that is reminiscent of set notation\n",
    "\n",
    "$$ S = \\{ x^2 ~\\mid~ 0 \\le x \\le 20, x\\mod 3 = 0\\}$$"
   ]
  },
  {
   "cell_type": "markdown",
   "metadata": {
    "vscode": {
     "languageId": "raw"
    }
   },
   "source": [
    "### Self‑study notes: List Comprehensions\n",
    "- **Pattern**: `[<expression> for <item> in <iterable> if <condition>]`.\n",
    "  - Example: squares of multiples of 3 up to 20: `[x**2 for x in range(21) if x % 3 == 0]`.\n",
    "- **Nested loops**: order matches nested `for` statements.\n",
    "  - `[(i, j) for i in range(2) for j in range(3)]`.\n",
    "- **Conditional expression**: `[\"even\" if x % 2 == 0 else \"odd\" for x in xs]`.\n",
    "- Use comprehensions when they are clear; switch to regular loops if logic gets hard to read.\n",
    "- For dicts/sets: `{x: x**2 for x in range(5)}` and `{x**2 for x in range(5)}`.\n"
   ]
  },
  {
   "cell_type": "markdown",
   "metadata": {
    "vscode": {
     "languageId": "raw"
    }
   },
   "source": [
    "#### Quick reference: collections\n",
    "\n",
    "| Type  | Ordered | Unique | Mutable |\n",
    "|-------|---------|--------|---------|\n",
    "| list  | Yes     | No     | Yes     |\n",
    "| tuple | Yes     | No     | No      |\n",
    "| set   | No      | Yes    | Yes     |\n",
    "| dict  | Yes     | Yes*   | Yes     |\n",
    "\n",
    "- *For `dict`, uniqueness applies to keys (values may repeat). Dicts preserve insertion order in Python 3.7+ (refer to OrderedDict.).\n"
   ]
  },
  {
   "cell_type": "code",
   "execution_count": null,
   "metadata": {
    "colab": {
     "base_uri": "https://localhost:8080/"
    },
    "executionInfo": {
     "elapsed": 6,
     "status": "ok",
     "timestamp": 1744223816202,
     "user": {
      "displayName": "Julie F. Wang",
      "userId": "05719936136264505342"
     },
     "user_tz": 420
    },
    "id": "rzUspLYBqy9l",
    "outputId": "c38e3772-46d9-44f3-ccd7-a053ffcf3491"
   },
   "outputs": [],
   "source": [
    "S = []\n",
    "for x in range(21):\n",
    "    if x % 3 == 0:\n",
    "        S.append(x**2)\n",
    "S"
   ]
  },
  {
   "cell_type": "markdown",
   "metadata": {
    "id": "X72grtjTcbIG"
   },
   "source": [
    "Syntax is generally\n",
    "```python3\n",
    "S = [<element> <for statement> <conditional>]\n",
    "```"
   ]
  },
  {
   "cell_type": "code",
   "execution_count": null,
   "metadata": {
    "colab": {
     "base_uri": "https://localhost:8080/"
    },
    "executionInfo": {
     "elapsed": 11,
     "status": "ok",
     "timestamp": 1744223877948,
     "user": {
      "displayName": "Julie F. Wang",
      "userId": "05719936136264505342"
     },
     "user_tz": 420
    },
    "id": "vzfGtb_vcbIG",
    "outputId": "ac298bd4-7f77-4f02-dfc4-12109c8b2458"
   },
   "outputs": [],
   "source": [
    "S = [x**2 for x in range(21) if x % 3 == 0]\n",
    "S"
   ]
  },
  {
   "cell_type": "markdown",
   "metadata": {
    "id": "JZ88hKsZNeNY"
   },
   "source": [
    "(Self-study)Try yourself with nested for loop~"
   ]
  },
  {
   "cell_type": "code",
   "execution_count": null,
   "metadata": {
    "colab": {
     "base_uri": "https://localhost:8080/"
    },
    "executionInfo": {
     "elapsed": 12,
     "status": "ok",
     "timestamp": 1744223892986,
     "user": {
      "displayName": "Julie F. Wang",
      "userId": "05719936136264505342"
     },
     "user_tz": 420
    },
    "id": "lsWtnruKcbIG",
    "outputId": "bbd0e770-260e-4b8a-ae36-8e1fc27f6e27"
   },
   "outputs": [],
   "source": [
    "S = []\n",
    "for i in range(2):\n",
    "    for j in range(2):\n",
    "        for k in range(2):\n",
    "            if (i + j + k) % 2 == 0:\n",
    "                S += [[i, j, k]]\n",
    "\n",
    "S"
   ]
  },
  {
   "cell_type": "code",
   "execution_count": null,
   "metadata": {
    "colab": {
     "base_uri": "https://localhost:8080/"
    },
    "executionInfo": {
     "elapsed": 6,
     "status": "ok",
     "timestamp": 1744223894774,
     "user": {
      "displayName": "Julie F. Wang",
      "userId": "05719936136264505342"
     },
     "user_tz": 420
    },
    "id": "zj7PYS66cbIG",
    "outputId": "841143de-deb0-4c02-c88e-8b012b951b41"
   },
   "outputs": [],
   "source": [
    "# you aren't restricted to a single for loop\n",
    "S = [\n",
    "    [i, j, k]\n",
    "    for i in range(2)\n",
    "    for j in range(2)\n",
    "    for k in range(2)\n",
    "    if (i + j + k) % 2 == 0\n",
    "]\n",
    "S"
   ]
  },
  {
   "cell_type": "code",
   "execution_count": null,
   "metadata": {
    "colab": {
     "base_uri": "https://localhost:8080/"
    },
    "executionInfo": {
     "elapsed": 5,
     "status": "ok",
     "timestamp": 1744223918254,
     "user": {
      "displayName": "Julie F. Wang",
      "userId": "05719936136264505342"
     },
     "user_tz": 420
    },
    "id": "VtUzdppOmSP5",
    "outputId": "432e1f03-872a-4573-fb58-84ea03f6fb4c"
   },
   "outputs": [],
   "source": [
    "# you aren't restricted to a single if statement : Ternary operation\n",
    "# s1 if c1 else c2\n",
    "[\"yes\" if v == 1 else \"no\" if v == 2 else \"idle\" for v in [1, 2, 3]]"
   ]
  },
  {
   "cell_type": "code",
   "execution_count": null,
   "metadata": {
    "colab": {
     "base_uri": "https://localhost:8080/"
    },
    "executionInfo": {
     "elapsed": 9,
     "status": "ok",
     "timestamp": 1744223919489,
     "user": {
      "displayName": "Julie F. Wang",
      "userId": "05719936136264505342"
     },
     "user_tz": 420
    },
    "id": "L9I636Rlbv1l",
    "outputId": "b9dbff2f-cbd7-4994-e535-cdbdab04b38d"
   },
   "outputs": [],
   "source": [
    "dir(str)"
   ]
  },
  {
   "cell_type": "markdown",
   "metadata": {
    "id": "82HHUl5EcbIG"
   },
   "source": [
    "# Other Collections (Data Structures)\n",
    "\n",
    "We've seen the `list` class, which is ordered/indexed, and mutable.  There are other Python collections that you may find useful:\n",
    "* `tuple` which is ordered/indexed, and immutable\n",
    "* `set` which is unordered/unindexed, mutable, and doesn't allow for duplicate elements\n",
    "* `dict` (dictionary), paired, which is unordered/unindexed, and mutable, with no duplicate keys."
   ]
  },
  {
   "cell_type": "markdown",
   "metadata": {
    "vscode": {
     "languageId": "raw"
    }
   },
   "source": [
    "### Self‑study notes: Other Collections\n",
    "- **tuple**: immutable ordered sequence. Use when data shouldn’t change.\n",
    "  - Example: `coords = (37.4, -122.1)`; indexing works, but assignment like `coords[0] = 0` raises `TypeError`.\n",
    "- **set**: unordered collection of unique items. Fast membership tests.\n",
    "  - Build: `s = {1, 2, 3}` or `set([1, 2, 2])` → `{1, 2}`.\n",
    "  - Ops: `add`, `remove`, `update`, math ops `| & - ^`.\n",
    "  - No indexing: use `in` or iterate.\n",
    "- **dict (dictionary)**: key→value mapping.\n",
    "  - Build: `d = {\"name\": \"Ada\", \"age\": 30}`; assign with `d[key] = value`.\n",
    "  - Access safely: `d.get(\"missing\", default)`.\n",
    "  - Iterate: `for k, v in d.items(): ...`.\n",
    "- **When to use which?**\n",
    "  - Need order + mutate: `list`; need order + immutable: `tuple`.\n",
    "  - Need unique membership tests: `set`.\n",
    "  - Need key→value lookups: `dict`.\n",
    "- Tip: Keys in `dict` and elements in `set` must be hashable (e.g., `str`, `int`, `tuple` of hashables; not `list`).\n"
   ]
  },
  {
   "cell_type": "code",
   "execution_count": null,
   "metadata": {
    "colab": {
     "base_uri": "https://localhost:8080/",
     "height": 193
    },
    "executionInfo": {
     "elapsed": 79,
     "status": "error",
     "timestamp": 1744223926338,
     "user": {
      "displayName": "Julie F. Wang",
      "userId": "05719936136264505342"
     },
     "user_tz": 420
    },
    "id": "xAry3xBbcbIG",
    "outputId": "a027e848-4900-4923-800f-893b456173b0"
   },
   "outputs": [],
   "source": [
    "a_tuple = (1, 2, 4)\n",
    "print(a_tuple)\n",
    "a_tuple[0] = 1"
   ]
  },
  {
   "cell_type": "code",
   "execution_count": null,
   "metadata": {
    "colab": {
     "base_uri": "https://localhost:8080/",
     "height": 193
    },
    "executionInfo": {
     "elapsed": 8,
     "status": "error",
     "timestamp": 1744223947240,
     "user": {
      "displayName": "Julie F. Wang",
      "userId": "05719936136264505342"
     },
     "user_tz": 420
    },
    "id": "KVAXxz6UcbIH",
    "outputId": "aa68bce4-8077-4b1d-ae6c-613c8327d720"
   },
   "outputs": [],
   "source": [
    "a_set = {5, 3, 2, 5.0}\n",
    "print(a_set)\n",
    "print(a_set[0])  # 'set' object is not subscriptable because it is unordered."
   ]
  },
  {
   "cell_type": "code",
   "execution_count": null,
   "metadata": {
    "colab": {
     "base_uri": "https://localhost:8080/"
    },
    "executionInfo": {
     "elapsed": 5,
     "status": "ok",
     "timestamp": 1744223970819,
     "user": {
      "displayName": "Julie F. Wang",
      "userId": "05719936136264505342"
     },
     "user_tz": 420
    },
    "id": "F9b-2Y1YcbIH",
    "outputId": "76ccd256-8c58-49be-829a-751a1e2c88af"
   },
   "outputs": [],
   "source": [
    "a_set.add(6)  # you can also add all element in a list by using .update()\n",
    "print(f\"After adding 6,   a_set:{a_set}\")\n",
    "a_set.remove(6)  # you can also add all element in a list by using minues operator\n",
    "print(f\"After removing 6, a_set:{a_set}\")"
   ]
  },
  {
   "cell_type": "code",
   "execution_count": null,
   "metadata": {
    "colab": {
     "base_uri": "https://localhost:8080/"
    },
    "executionInfo": {
     "elapsed": 8,
     "status": "ok",
     "timestamp": 1744223972933,
     "user": {
      "displayName": "Julie F. Wang",
      "userId": "05719936136264505342"
     },
     "user_tz": 420
    },
    "id": "8eqTIXOXcbIH",
    "outputId": "9b3c2bc4-cead-441f-ab9e-9c5418e155aa"
   },
   "outputs": [],
   "source": [
    "a_dict = {}  # {key0: value0, key1: value1}\n",
    "a_dict[2] = 12  # dict[key] = value\n",
    "a_dict[\"key_2\"] = \"str\"\n",
    "a_dict[\"key_3\"] = [13, \"value\"]\n",
    "a_dict"
   ]
  },
  {
   "cell_type": "code",
   "execution_count": null,
   "metadata": {
    "colab": {
     "base_uri": "https://localhost:8080/"
    },
    "executionInfo": {
     "elapsed": 6,
     "status": "ok",
     "timestamp": 1744223974744,
     "user": {
      "displayName": "Julie F. Wang",
      "userId": "05719936136264505342"
     },
     "user_tz": 420
    },
    "id": "VawfIljer7Td",
    "outputId": "ac009148-7a7c-40c7-ff39-1390f0c4416e"
   },
   "outputs": [],
   "source": [
    "print(a_dict[2])\n",
    "print(a_dict.get(2))\n",
    "print(a_dict.get(3, \"not found\"))  # save get."
   ]
  },
  {
   "cell_type": "code",
   "execution_count": null,
   "metadata": {
    "colab": {
     "base_uri": "https://localhost:8080/"
    },
    "executionInfo": {
     "elapsed": 11,
     "status": "ok",
     "timestamp": 1744223976146,
     "user": {
      "displayName": "Julie F. Wang",
      "userId": "05719936136264505342"
     },
     "user_tz": 420
    },
    "id": "7E6KY3rmcbIH",
    "outputId": "22706ae5-8d21-42f7-a96a-e815cab8fb93"
   },
   "outputs": [],
   "source": [
    "a_dict_copy = {2: \"new value\", \"key_2\": 28, \"key_3\": [13, \"value\"]}\n",
    "a_dict_copy"
   ]
  },
  {
   "cell_type": "markdown",
   "metadata": {
    "id": "DxnjXbSm0AO0"
   },
   "source": [
    "(Optional) More Advanced Collections in Python\n",
    "* [`OrderedDict`](https://docs.python.org/3/library/collections.html#ordereddict-objects) Dict ordered by keys\n",
    "* [`deque`](https://docs.python.org/3/library/collections.html#deque-objects): double-ended queue (generalization of stack and queue)\n",
    "* [`heapq`](https://docs.python.org/3/library/heapq.html) Priority Queue"
   ]
  },
  {
   "cell_type": "markdown",
   "metadata": {
    "id": "yPXV07ppcbIH"
   },
   "source": [
    "# Exercise 2\n",
    "\n",
    "**Lists**\n",
    "1. Create a list `['a', 'b', 'c']`\n",
    "2. use the `insert()` method to put the element `'d'` at index 1\n",
    "3. use the `remove()` method to delete the element `'b'` in the list\n",
    "\n",
    "**List comprehensions**\n",
    "1. What does the following list contain?\n",
    "```python\n",
    "X = [i for i in range(100)]\n",
    "```\n",
    "2. Interpret the following set as a list comprehension:\n",
    "$S_1 = \\{x\\in X \\mid x\\mod 5 = 2\\}$\n",
    "3. Intepret the following set as a list comprehension: $S_2 = \\{x \\in S_1 \\mid x \\text{ is even}\\}$\n",
    "4. generate the set of all tuples $(x,y)$ where $x\\in S_1$, $y\\in S_2$.\n",
    "\n",
    "**Other Collections**\n",
    "1. Try creating another type of collection\n",
    "2. try iterating over it."
   ]
  }
 ],
 "metadata": {
  "colab": {
   "collapsed_sections": [
    "IB20Lo4pcbHr",
    "CyZW8H_CcbHu"
   ],
   "provenance": [
    {
     "file_id": "1n5GolrN_6ko0XeawRTsQ3IK-514D-221",
     "timestamp": 1758585103854
    },
    {
     "file_id": "1-kIuhphsqAZN3dVu_Xv8GIyE_DugWJjy",
     "timestamp": 1727160658218
    },
    {
     "file_id": "1HShDK97vs2fKNu5Tbp0vEbht8zguOsYH",
     "timestamp": 1664743489968
    }
   ],
   "toc_visible": true
  },
  "kernelspec": {
   "display_name": "cme193-autumn-2025",
   "language": "python",
   "name": "python3"
  },
  "language_info": {
   "codemirror_mode": {
    "name": "ipython",
    "version": 3
   },
   "file_extension": ".py",
   "mimetype": "text/x-python",
   "name": "python",
   "nbconvert_exporter": "python",
   "pygments_lexer": "ipython3",
   "version": "3.12.11"
  }
 },
 "nbformat": 4,
 "nbformat_minor": 0
}
