# Demo: streaming UnivariateOnlineOLS
xs = np.array([0, 1, 2, 3], dtype=float)
ys = 3 + 2 * xs

m = UnivariateOnlineOLS(fit_intercept=True)
for x, y in zip(xs, ys):
    m += (x, y)
print("Online: slope=", round(m.slope, 4), " intercept=", round(m.intercept, 4), " R^2=", round(m.score(xs, ys), 4))

m0 = UnivariateOnlineOLS(fit_intercept=False)
for x, y in zip(xs, ys):
    m0 += (x, y)
print("Online (no intercept): slope=", round(m0.slope, 4), " intercept=", round(m0.intercept, 4), " R^2=", round(m0.score(xs, ys), 4))# Demo: batch UnivariateOLS
xs = np.array([0, 1, 2, 3], dtype=float)
ys = 3 + 2 * xs

m = UnivariateOLS(fit_intercept=True).fit(xs, ys)
print("Batch: slope=", round(m.slope_, 4), " intercept=", round(m.intercept_, 4), " R^2=", round(m.score(xs, ys), 4))

m0 = UnivariateOLS(fit_intercept=False).fit(xs, ys)
print("Batch (no intercept): slope=", round(m0.slope_, 4), " intercept=", round(m0.intercept_, 4), " R^2=", round(m0.score(xs, ys), 4))class UnivariateOnlineOLS:
    def __init__(self, fit_intercept: bool = True):
        self.fit_intercept = bool(fit_intercept)
        self.n = 0
        self.Sx = 0.0
        self.Sy = 0.0
        self.Sxx = 0.0
        self.Sxy = 0.0
        self._a = None
        self._b = None

    def add(self, x: float, y: float) -> None:
        self.n += 1
        self.Sx += x
        self.Sy += y
        self.Sxx += x * x
        self.Sxy += x * y
        self._a = self._b = None

    def __iadd__(self, obs: Tuple[float, float]):
        x, y = obs
        self.add(float(x), float(y))
        return self

    def __add__(self, obs: Tuple[float, float]):
        x, y = obs
        new = UnivariateOnlineOLS(self.fit_intercept)
        new.n, new.Sx, new.Sy, new.Sxx, new.Sxy = self.n, self.Sx, self.Sy, self.Sxx, self.Sxy
        new.add(float(x), float(y))
        return new

    def _fit_if_needed(self):
        if self._b is not None:
            return
        if self.n == 0:
            raise ValueError("No data.")
        if self.fit_intercept:
            den = self.n * self.Sxx - self.Sx * self.Sx
            if den == 0:
                raise ZeroDivisionError("Denominator is zero (all x identical?).")
            b = (self.n * self.Sxy - self.Sx * self.Sy) / den
            a = (self.Sy - b * self.Sx) / self.n
        else:
            if self.Sxx == 0:
                raise ZeroDivisionError("Sxx is zero (all x are zero?).")
            b = self.Sxy / self.Sxx
            a = 0.0
        self._a, self._b = float(a), float(b)

    @property
    def slope(self) -> float:
        self._fit_if_needed()
        return float(self._b)

    @property
    def intercept(self) -> float:
        self._fit_if_needed()
        return float(self._a)

    def predict(self, X: Union[float, np.ndarray]) -> Union[float, np.ndarray]:
        self._fit_if_needed()
        return self._a + self._b * X

    def score(self, X: np.ndarray, y: np.ndarray) -> float:
        yhat = self.predict(X)
        u = y - yhat
        v = y - y.mean() if self.fit_intercept else y
        den = float(np.dot(v, v))
        return 1.0 - float(np.dot(u, u)) / den if den != 0.0 else 0.0
class UnivariateOLS:
    def __init__(self, fit_intercept: bool = True):
        self.fit_intercept = bool(fit_intercept)
        self.intercept_ = None
        self.slope_ = None

    def fit(self, X: np.ndarray, y: np.ndarray):
        X = np.asarray(X, dtype=float).reshape(-1)
        y = np.asarray(y, dtype=float).reshape(-1)
        if X.shape[0] != y.shape[0]:
            raise ValueError("X and y must have same length")
        n = X.shape[0]
        Sx = X.sum()
        Sy = y.sum()
        Sxx = float(np.dot(X, X))
        Sxy = float(np.dot(X, y))
        if self.fit_intercept:
            den = n * Sxx - Sx * Sx
            if den == 0:
                raise ZeroDivisionError("Denominator is zero (all x identical?).")
            b = (n * Sxy - Sx * Sy) / den
            a = (Sy - b * Sx) / n
        else:
            if Sxx == 0:
                raise ZeroDivisionError("Sxx is zero (all x are zero?).")
            b = Sxy / Sxx
            a = 0.0
        self.intercept_ = float(a)
        self.slope_ = float(b)
        return self

    def predict(self, X: Union[float, np.ndarray]) -> Union[float, np.ndarray]:
        if self.slope_ is None:
            raise ValueError("Model not fit.")
        return self.intercept_ + self.slope_ * X

    def score(self, X: np.ndarray, y: np.ndarray) -> float:
        yhat = self.predict(X)
        u = y - yhat
        v = y - y.mean() if self.fit_intercept else y
        den = float(np.dot(v, v))
        return 1.0 - float(np.dot(u, u)) / den if den != 0.0 else 0.0
import numpy as np
from typing import Tuple, Union
# CME 193 - Lec 2: Univariate OLS via OOP

We’ll implement ordinary least squares for one variable in two forms:
- UnivariateOLS: batch fit
- UnivariateOnlineOLS: streaming updates with `__add__`/`__iadd__`

Both support an optional intercept.